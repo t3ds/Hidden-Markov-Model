{
  "nbformat": 4,
  "nbformat_minor": 0,
  "metadata": {
    "colab": {
      "name": "HMM+Viterbi.ipynb",
      "provenance": [],
      "collapsed_sections": []
    },
    "kernelspec": {
      "name": "python3",
      "display_name": "Python 3"
    }
  },
  "cells": [
    {
      "cell_type": "code",
      "metadata": {
        "id": "4pYvccOFoptc"
      },
      "source": [
        "####Either do this or go down to the \"Read preprocessed files\""
      ],
      "execution_count": 131,
      "outputs": []
    },
    {
      "cell_type": "markdown",
      "metadata": {
        "id": "bQv9WnVOomzN"
      },
      "source": [
        "# Installing Dependencies"
      ]
    },
    {
      "cell_type": "code",
      "metadata": {
        "colab": {
          "base_uri": "https://localhost:8080/"
        },
        "id": "Tpp9CexgolE1",
        "outputId": "34318269-2df9-4bcc-8733-a5f266e470d4"
      },
      "source": [
        "!pip install pytesseract \r\n",
        "!pip install pdf2image\r\n",
        "!apt-get install poppler-utils \r\n",
        "!sudo apt install tesseract-ocr"
      ],
      "execution_count": 1,
      "outputs": [
        {
          "output_type": "stream",
          "text": [
            "Collecting pytesseract\n",
            "  Downloading https://files.pythonhosted.org/packages/a0/e6/a4e9fc8a93c1318540e8de6d8d4beb5749b7960388a7c7f27799fc2dd016/pytesseract-0.3.7.tar.gz\n",
            "Requirement already satisfied: Pillow in /usr/local/lib/python3.7/dist-packages (from pytesseract) (7.0.0)\n",
            "Building wheels for collected packages: pytesseract\n",
            "  Building wheel for pytesseract (setup.py) ... \u001b[?25l\u001b[?25hdone\n",
            "  Created wheel for pytesseract: filename=pytesseract-0.3.7-py2.py3-none-any.whl size=13945 sha256=47af67137aa4fb0026114036efb91ac1bbc346ec5dce27136d1e5c9fb36bf3f7\n",
            "  Stored in directory: /root/.cache/pip/wheels/81/20/7e/1dd0daad1575d5260916bb1e9781246430647adaef4b3ca3b3\n",
            "Successfully built pytesseract\n",
            "Installing collected packages: pytesseract\n",
            "Successfully installed pytesseract-0.3.7\n",
            "Collecting pdf2image\n",
            "  Downloading https://files.pythonhosted.org/packages/03/62/089030fd16ab3e5c245315d63c80b29250b8f9e4579b5a09306eb7e7539c/pdf2image-1.14.0-py3-none-any.whl\n",
            "Requirement already satisfied: pillow in /usr/local/lib/python3.7/dist-packages (from pdf2image) (7.0.0)\n",
            "Installing collected packages: pdf2image\n",
            "Successfully installed pdf2image-1.14.0\n",
            "Reading package lists... Done\n",
            "Building dependency tree       \n",
            "Reading state information... Done\n",
            "The following NEW packages will be installed:\n",
            "  poppler-utils\n",
            "0 upgraded, 1 newly installed, 0 to remove and 29 not upgraded.\n",
            "Need to get 154 kB of archives.\n",
            "After this operation, 613 kB of additional disk space will be used.\n",
            "Get:1 http://archive.ubuntu.com/ubuntu bionic-updates/main amd64 poppler-utils amd64 0.62.0-2ubuntu2.12 [154 kB]\n",
            "Fetched 154 kB in 0s (310 kB/s)\n",
            "Selecting previously unselected package poppler-utils.\n",
            "(Reading database ... 160975 files and directories currently installed.)\n",
            "Preparing to unpack .../poppler-utils_0.62.0-2ubuntu2.12_amd64.deb ...\n",
            "Unpacking poppler-utils (0.62.0-2ubuntu2.12) ...\n",
            "Setting up poppler-utils (0.62.0-2ubuntu2.12) ...\n",
            "Processing triggers for man-db (2.8.3-2ubuntu0.1) ...\n",
            "Reading package lists... Done\n",
            "Building dependency tree       \n",
            "Reading state information... Done\n",
            "The following additional packages will be installed:\n",
            "  tesseract-ocr-eng tesseract-ocr-osd\n",
            "The following NEW packages will be installed:\n",
            "  tesseract-ocr tesseract-ocr-eng tesseract-ocr-osd\n",
            "0 upgraded, 3 newly installed, 0 to remove and 29 not upgraded.\n",
            "Need to get 4,795 kB of archives.\n",
            "After this operation, 15.8 MB of additional disk space will be used.\n",
            "Get:1 http://archive.ubuntu.com/ubuntu bionic/universe amd64 tesseract-ocr-eng all 4.00~git24-0e00fe6-1.2 [1,588 kB]\n",
            "Get:2 http://archive.ubuntu.com/ubuntu bionic/universe amd64 tesseract-ocr-osd all 4.00~git24-0e00fe6-1.2 [2,989 kB]\n",
            "Get:3 http://archive.ubuntu.com/ubuntu bionic/universe amd64 tesseract-ocr amd64 4.00~git2288-10f4998a-2 [218 kB]\n",
            "Fetched 4,795 kB in 1s (4,567 kB/s)\n",
            "debconf: unable to initialize frontend: Dialog\n",
            "debconf: (No usable dialog-like program is installed, so the dialog based frontend cannot be used. at /usr/share/perl5/Debconf/FrontEnd/Dialog.pm line 76, <> line 3.)\n",
            "debconf: falling back to frontend: Readline\n",
            "debconf: unable to initialize frontend: Readline\n",
            "debconf: (This frontend requires a controlling tty.)\n",
            "debconf: falling back to frontend: Teletype\n",
            "dpkg-preconfigure: unable to re-open stdin: \n",
            "Selecting previously unselected package tesseract-ocr-eng.\n",
            "(Reading database ... 161003 files and directories currently installed.)\n",
            "Preparing to unpack .../tesseract-ocr-eng_4.00~git24-0e00fe6-1.2_all.deb ...\n",
            "Unpacking tesseract-ocr-eng (4.00~git24-0e00fe6-1.2) ...\n",
            "Selecting previously unselected package tesseract-ocr-osd.\n",
            "Preparing to unpack .../tesseract-ocr-osd_4.00~git24-0e00fe6-1.2_all.deb ...\n",
            "Unpacking tesseract-ocr-osd (4.00~git24-0e00fe6-1.2) ...\n",
            "Selecting previously unselected package tesseract-ocr.\n",
            "Preparing to unpack .../tesseract-ocr_4.00~git2288-10f4998a-2_amd64.deb ...\n",
            "Unpacking tesseract-ocr (4.00~git2288-10f4998a-2) ...\n",
            "Setting up tesseract-ocr-osd (4.00~git24-0e00fe6-1.2) ...\n",
            "Setting up tesseract-ocr-eng (4.00~git24-0e00fe6-1.2) ...\n",
            "Setting up tesseract-ocr (4.00~git2288-10f4998a-2) ...\n",
            "Processing triggers for man-db (2.8.3-2ubuntu0.1) ...\n"
          ],
          "name": "stdout"
        }
      ]
    },
    {
      "cell_type": "code",
      "metadata": {
        "colab": {
          "base_uri": "https://localhost:8080/"
        },
        "id": "oAcRStjgo7A8",
        "outputId": "92bc85a3-20b4-4274-da75-c4d5d7158dfd"
      },
      "source": [
        "!pip install tika\r\n",
        "!pip install networkx"
      ],
      "execution_count": 2,
      "outputs": [
        {
          "output_type": "stream",
          "text": [
            "Collecting tika\n",
            "  Downloading https://files.pythonhosted.org/packages/96/07/244fbb9c74c0de8a3745cc9f3f496077a29f6418c7cbd90d68fd799574cb/tika-1.24.tar.gz\n",
            "Requirement already satisfied: setuptools in /usr/local/lib/python3.7/dist-packages (from tika) (54.0.0)\n",
            "Requirement already satisfied: requests in /usr/local/lib/python3.7/dist-packages (from tika) (2.23.0)\n",
            "Requirement already satisfied: chardet<4,>=3.0.2 in /usr/local/lib/python3.7/dist-packages (from requests->tika) (3.0.4)\n",
            "Requirement already satisfied: urllib3!=1.25.0,!=1.25.1,<1.26,>=1.21.1 in /usr/local/lib/python3.7/dist-packages (from requests->tika) (1.24.3)\n",
            "Requirement already satisfied: idna<3,>=2.5 in /usr/local/lib/python3.7/dist-packages (from requests->tika) (2.10)\n",
            "Requirement already satisfied: certifi>=2017.4.17 in /usr/local/lib/python3.7/dist-packages (from requests->tika) (2020.12.5)\n",
            "Building wheels for collected packages: tika\n",
            "  Building wheel for tika (setup.py) ... \u001b[?25l\u001b[?25hdone\n",
            "  Created wheel for tika: filename=tika-1.24-cp37-none-any.whl size=32885 sha256=3c9d18d03371a42887affb1918564a4ecb74291b0012f018876b4c77a0541cc6\n",
            "  Stored in directory: /root/.cache/pip/wheels/73/9c/f5/0b1b738442fc2a2862bef95b908b374f8e80215550fb2a8975\n",
            "Successfully built tika\n",
            "Installing collected packages: tika\n",
            "Successfully installed tika-1.24\n",
            "Requirement already satisfied: networkx in /usr/local/lib/python3.7/dist-packages (2.5)\n",
            "Requirement already satisfied: decorator>=4.3.0 in /usr/local/lib/python3.7/dist-packages (from networkx) (4.4.2)\n"
          ],
          "name": "stdout"
        }
      ]
    },
    {
      "cell_type": "markdown",
      "metadata": {
        "id": "VifmfwmQpAIQ"
      },
      "source": [
        "# Importing Libraries"
      ]
    },
    {
      "cell_type": "code",
      "metadata": {
        "colab": {
          "base_uri": "https://localhost:8080/"
        },
        "id": "Cr1GbduXotYG",
        "outputId": "087a4985-8684-4e05-e870-70b00d62bad9"
      },
      "source": [
        "from PIL import Image \r\n",
        "import pytesseract \r\n",
        "import sys \r\n",
        "from pdf2image import convert_from_path \r\n",
        "import os \r\n",
        "from tika import parser\r\n",
        "from gensim.models.doc2vec import Doc2Vec, TaggedDocument\r\n",
        "import numpy as np\r\n",
        "import pandas as pd\r\n",
        "import nltk\r\n",
        "nltk.download('punkt') # one time execution\r\n",
        "import re\r\n",
        "import spacy\r\n",
        "nlp = spacy.load('en_core_web_sm')"
      ],
      "execution_count": 3,
      "outputs": [
        {
          "output_type": "stream",
          "text": [
            "[nltk_data] Downloading package punkt to /root/nltk_data...\n",
            "[nltk_data]   Unzipping tokenizers/punkt.zip.\n"
          ],
          "name": "stdout"
        }
      ]
    },
    {
      "cell_type": "markdown",
      "metadata": {
        "id": "LuYGL5i6pGgO"
      },
      "source": [
        "# Reading File and Converting to Text"
      ]
    },
    {
      "cell_type": "code",
      "metadata": {
        "colab": {
          "base_uri": "https://localhost:8080/"
        },
        "id": "uURQM0DYo4yg",
        "outputId": "9333b8e2-ff57-4068-8f5e-1baeb43bf241"
      },
      "source": [
        "# Path of the pdf \r\n",
        "PDF_file = \"/content/2021-02-08_104743.pdf\"\r\n",
        "\r\n",
        "pages = convert_from_path(PDF_file) \r\n",
        "rawText = \"\"\r\n",
        "\r\n",
        "for page in pages:\r\n",
        "  text = str(((pytesseract.image_to_string(page))))\r\n",
        "  text = text.replace('-\\n', '')\r\n",
        "  rawText += text\r\n",
        "\r\n",
        "\r\n",
        " \r\n"
      ],
      "execution_count": 128,
      "outputs": [
        {
          "output_type": "stream",
          "text": [
            "/usr/local/lib/python3.7/dist-packages/PIL/Image.py:2766: DecompressionBombWarning: Image size (150876400 pixels) exceeds limit of 89478485 pixels, could be decompression bomb DOS attack.\n",
            "  DecompressionBombWarning,\n"
          ],
          "name": "stderr"
        }
      ]
    },
    {
      "cell_type": "code",
      "metadata": {
        "id": "WC_M1uiz4-X2"
      },
      "source": [
        ""
      ],
      "execution_count": null,
      "outputs": []
    },
    {
      "cell_type": "code",
      "metadata": {
        "colab": {
          "base_uri": "https://localhost:8080/"
        },
        "id": "0qCzbx6Gqrnv",
        "outputId": "a21f14b1-033c-49d4-f5e4-d7a4f363104d"
      },
      "source": [
        "print(rawText)\r\n",
        "with open(\"output.txt\", \"w\") as f:\r\n",
        "  f.write(rawText)"
      ],
      "execution_count": 129,
      "outputs": [
        {
          "output_type": "stream",
          "text": [
            "For the use of a Registered Medical Practitioner or a Hospital or a Laboratory only.\n",
            "\n",
            "Prescribing Information\n",
            "\n",
            "Inandronic Acid Tablets\n",
            "Idrofos 150\n",
            "\n",
            "Dosage form:\n",
            "Tablets\n",
            "\n",
            "Composition:\n",
            "\n",
            "Each Film Coated Tablet Contains:\n",
            "\n",
            "lbandronic Acid Monosodium Monohydrate equivalentto Ibandronic Acid 150 mg\n",
            "Excipients on\n",
            "\n",
            "Clinical Pharmacology:\n",
            "lbandronic acid is anitrogen containing bisphosphonate that inhibits osteoclast mediated bone resorption.\n",
            "\n",
            "Mechanism of Action\n",
            "\n",
            "The action of ibandronic acid on bone tissue Is based on its affinity for hydroxyapatite, which is part of the\n",
            "mineral matrix of bone. Ibandronic acid inhibits osteoclast activity and reduces bone resorption and turnover. In\n",
            "post menopausal women, it reduces the elevated rate of bone turnover, leading to, on average, a net gain in\n",
            "bone mass.\n",
            "\n",
            "Pharmacokinetics\n",
            "\n",
            "The absorption of oral ibandronic acid occurs in the upper gastrointestinal tract. Plasma concentrations\n",
            "increase ina dose linear manner up to 50 mg oral intake and increases nonlinearly above this dose. Following\n",
            "oral dosing, the time to maximum observed plasma ibandronic acid concentrations ranged from 0.5 to 2 hours\n",
            "(median 1 hour) in fasted healthy postmenopausal women. The oral bioavailability of ibandronic acid is\n",
            "reduced by about 90% when it is administered concomitantly with a standard breakfast in comparison with\n",
            "bioavailability observed in fasted subjects. There is no meaningful reduction in bioavailability when ibandronic\n",
            "acid is taken at least 60 minutes before a meal. However, voth bioavailability and the effect on bone mineral\n",
            "density (BMD) are reduced when food or beverages are taken less than 60 minutes following an ibandronic\n",
            "acid dose.\n",
            "\n",
            "After absorption, ibandronic acid either rapidly binds to bone or is excreted into urine. In humans, the apparent\n",
            "terminal volume of distribution is at least 90 L, and the amount of dose removed from the circulation via the\n",
            "bone is estimated to be 40% to 50% of the circulating dose. In vitro protein binding in human serum was 99.5%\n",
            "+o 90.9% over an ibandronic acid concentration range of 2 to 10 ng/ml in one study and approximately 85.7%\n",
            "over a concentration range of 0.5 to 10 ng/ml in another study.\n",
            "\n",
            "There is no evidence that ibandronic acid is metabolised in humans. The portion of ibandronic acid that is not\n",
            "removed from the circulation via bone absorption is eliminated unchanged by the kidney (approximately 50%\n",
            "+o 60% of the absorbed dose). Unabsorbed ibandronic acid is eliminated unchanged in the feces.\n",
            "\n",
            "The plasma elimination of ibandronic acid is multiphasic. Its renal clearance and distribution into bone\n",
            "accounts for a rapid and early decline in plasma concentrations, reaching 10% of the Cmax within 3 or § hours\n",
            "after intravenous or oral administration, respectively. This is followed by a slower clearance phase as\n",
            "‘bandronic acid redistributes back into the blood from bone. The observed apparent terminal half-life for\n",
            "ibandronic acid is generally dependent on the dose studied and on assay sensitivity. The observed apparent\n",
            "terminal half-life for the 150 mg ibandronic acid tablet upon oral administration to healthy postmenopausal\n",
            "women ranges from 37 to 157 hours.\n",
            "\n",
            "Total clearance of ibandronic acid is low, with average values in the range 84 to 160 ml/min. Renal clearance\n",
            "(about 60 ml/min in healthy postmenopausal females) accounts for 50% to 60% of total clearance and Is\n",
            "related to creatinine clearance. The difference between the apparent total and renal clearances likely reflects\n",
            "bone uptake of the drug.\n",
            "\n",
            "The pharmacokinetics of ibandronic acid has not been studied in patients < 18 years of age. Since ibandronic\n",
            "acid is not known to be metabolised, the only difference in ibandronic acid elimination for geriatric patients\n",
            "versus younger patients is expected to relate to progressive age related changes in renal function.\n",
            "\n",
            "Renal clearance of ibandronic acid in patients with various degrees of renal impairment is linearly related to\n",
            "creatinine clearance (Clcr). Following a single dose of 0.5 mg ibandronic acid by intravenous administration,\n",
            "patients with CLcr 40 to 70 ml/min had 55% higher exposure (AUC ..) than the exposure observed in subjects\n",
            "with CLer > 90 ml/min. Patients with CLer < 30 ml/min had more than a two fold increase in exposure\n",
            "compared to the exposure for healthy subjects. No studies have been performed to assess the\n",
            "oharmacokinetics of ibandronic acid in patients with hepatic impairment since ibandronic acid is not\n",
            "metabolised in the human liver.\n",
            "\n",
            "Indications:\n",
            "Idrofos® 150 is indicated for the treatment and prevention of osteoporosis in postmenopausal women.\n",
            "\n",
            "Contra-indications:\n",
            "\n",
            "e Knownhypersensitivity to ibandronic acid or to any of its excipients.\n",
            "e Uncorrected hypocalcemia.\n",
            "\n",
            "e _|nability to stand or sit upright for at least 60 minutes.\n",
            "\n",
            "lAlarninase and Precautions:\n",
            "\n",
            "= .\n",
            "\n",
            "Hypocalcemia and other disturbances of bone and mineral metabolism should be effectively treated before\n",
            "starting ibandronic acid therapy. Adequate intake of calcium and vitamin D is importantin all patients.\n",
            "\n",
            "Osteonecrosis, primarily in the jaw, has been reported in patients treated with bisphosphonates. Most cases\n",
            "have been in cancer patients undergoing dental procedures, but some have occurred in patients with\n",
            "postmenopausal osteoporosis or other diagnoses. Known risk factors for osteonecrosis include a diagnosis of\n",
            "cancer, concomitant therapies (e.g., chemotherapy, radiotherapy, corticosteroids), and co-morbid disorders\n",
            "(e.g., anemia, coagulopathy, infection, pre-existing dental disease). Most reported cases have been in patients\n",
            "treated with bisphosphonates intravenously but some have been in patients treated orally.\n",
            "\n",
            "For patients who develop osteonecrosis of the jaw (ONJ) while on bisphosphonate therapy, dental surgery may\n",
            "exacerbate the condition.\n",
            "\n",
            "In postmarketing experience, severe and occasionally incapacitating bone, joint, and/or muscle pain has been\n",
            "reported in patients taking bisphosphonates that are approved for the prevention and treatment of\n",
            "osteoporosis. However, such reports have been infrequent. This category of drugs include ibandronic acid\n",
            "tablets. Most of the patients were postmenopausal women. The time to onset of symptoms varied from one\n",
            "day to several months after starting the drug. Most patients had relief of symptoms after stopping. A subset\n",
            "had recurrence of symptoms when rechallenged with the same drug or another bisphosphonate.\n",
            "\n",
            "Bisphosphonates are known to interfere with the use of bone imaging agents. Specific studies with ibandronic\n",
            "acid have not been performed.\n",
            "\n",
            "Physicians should be alert to signs or symptoms signaling a possible esophageal reaction during therapy, and\n",
            "patients should be instructed to discontinue ibandronic acid and seek medical attention if they develop\n",
            "symptoms of esophageal irritation such as new or worsening dysphagia, pain on swallowing, retrosternal\n",
            "pain, or heartburn.\n",
            "\n",
            "Ibandronic acid is not recommended for patients with a creatinine clearance below 30 ml/min.\n",
            "\n",
            "Pregnancy & Lactation\n",
            "There are no adequate and well controlled studies in pregnant women. lbandronic acid should be used during\n",
            "pregnancy only if the potential benefit justifies the potential risk to the mother and fetus.\n",
            "\n",
            "tis not known whether ibandronic acid is excreted in human milk. Because many drugs are excreted in human\n",
            "milk, caution should be exercised when ibandronic acidis administered to a nursing woman.\n",
            "\n",
            "Drug Interactions:\n",
            "\n",
            "A pharmacokinetic interaction study in healthy volunteers demonstrated that 75 mg ranitidine (25 mg injected\n",
            "intravenously 90 and 15 minutes before and 30 minutes after ibandronic acid administration) increased the\n",
            "oral bioavailability of 10 mg ibandronic acid by about 20%. This degree of increase is not considered to be\n",
            "clinically relevant.\n",
            "\n",
            "Pharmacokinetic interaction studies in postmenopausal women have demonstrated the absence of any\n",
            "interaction potential with tamoxifen or hormone replacement therapy (estrogen). No interaction was observed\n",
            "when coadministered with melphalan/prednisolone in patients with multiple myeloma.\n",
            "\n",
            "Products containing calcium and other multivalent cations (such as aluminium, magnesium, iron), including\n",
            "milk, are likely to interfere with absorption of thandronic acid. Ibandronic acid should be taken at least 60\n",
            "minutes before any oral medications containing multivalent cations (including antacids, supplements 01\n",
            "vitamins). Patients should fast overnight (at least 6 hours) before taking ibandronic acid and continue fasting\n",
            "for 1 hour following intake of ibandronic acid.\n",
            "\n",
            "Since aspirin, NSAIDs, and bisphosphonates are all associated with gastrointestinal irritation, caution should\n",
            "be exercised in the concomitant use of aspirin or NSAIDs with ibandronic acid.\n",
            "\n",
            "Side effects:\n",
            "\n",
            "The most commonly reported adverse effects are back pain, pain in extremity, infection, asthenia, allergic\n",
            "reaction, dyspepsia, diarrhea, tooth disorder, vomiting, gastritis, hypercholesteralemia, myalgia, joint disorder,\n",
            "arthritis, headache, hypertension, dizziness, vertigo, nerve root lesion, muscle cramp, upper respiratory\n",
            "infection, bronchitis, pneumonia, pharyngitis, urinary tract infection, nausea, constipation, abdominal pain,\n",
            "arthralgia, localised osteoarthritis, influenza, nasopharyngitis, influenza like illness, rash, insomnia, fatigue,\n",
            "flatulence, gastroesophageal reflux disease, musculoskeletal pain, fever, chills, loss of appetite, bone pain.\n",
            "\n",
            "Reports in the medical literature indicate that bisphosphonates may be associated with ocular inflammation\n",
            "such as uveitis and scleritis. In some cases, these events did not resolve until the bisphosphonate was\n",
            "discontinued. Two patients who received ibandronic acid monthly experienced ocular inflammation, one was\n",
            "a case of uveitis and the other scleritis.\n",
            "\n",
            "Overdosage:\n",
            "\n",
            "No specific information is available on the treatment of overdosage with Idrofos” 150. However, based on\n",
            "knowledge of this class of compounds, oral overdosage may result in hypocalcemia, hypophosphatemia and\n",
            "upper gastrointestinal adverse events, such as upsel stomach, dyspepsia, esophagitis, gastritis, or ulcer. Milk\n",
            "or antacids should be given to bind ibandronic acid. Due to the risk of esophageal irritation, vomiting should not\n",
            "be induced, and the patient should remain fully upright. Dialysis would not be beneficial.\n",
            "\n",
            "Dosage and Administration:\n",
            "The recommended dose is one ldrofos® 150 tablettaken once monthly onthe same date each month.\n",
            "\n",
            "To maximize absorption and clinical benefit, Idrofos” 150 should be taken after an overnight fast (atleast 6\n",
            "hours) and at least 60 minutes before the first food or drink (other than water) of the day or before taking any\n",
            "oral medication or supplementation, including calcium, antacids, or vitamins.\n",
            "\n",
            "can nl levtbadiann Ieluntan” {RM tnhlate\n",
            "\n",
            "Plain water is the only drink that should be taken with Idrofos® 150. It should be noted that some mineral waters\n",
            "may have a higher concentration of calcium and therefore should not be used.\n",
            "\n",
            "Patients should not chew or suck the tablet because of a potential oropharyngeal ulceration.\n",
            "The Idrofos® 150 tablet should be taken on the same date each month.\n",
            "\n",
            "ifthe once monthly dose is missed, and the patient's next scheduled Idrofos® 150 day is more than 7 days away,\n",
            "the patient should be instructed to take one Idrofos” 150 tablet in the morning following the date that it is\n",
            "remembered. The patient should then return to taking one Idrofes® 150 tablet every month in the morning of their\n",
            "chosen day, according to their original schedule.\n",
            "\n",
            "The patient must not take two 150 mg tablets within the same week. If the patient's next scheduled Idrofos® 150\n",
            "day is only 1 to 7 days away, the patient must wait until their next scheduled Idrofos” 150 day to take their tablet.\n",
            "The patient should then return to taking one Idrofos” 150 every month in the morning of their chosen day,\n",
            "according to their original schedule.\n",
            "\n",
            "Patients should receive supplemental calcium or vitamin D if dietary intake is inadequate.\n",
            "Elderly. No dosage adjustmentis necessary in elderly.\n",
            "\n",
            "Pediatric use: Safety and effectiveness in pediatric patients have not been established.\n",
            "Hepatic impairment: No dose adjustments necessary.\n",
            "\n",
            "Renal impairment: No dose adjustment is necessary for patients with mild or moderate renal impairment where\n",
            "creatinine clearance is equal to or greater than 30 ml/min. Idrofos” 150 is not recommended for use in patients\n",
            "with severe renal impairment (creatinine clearance of < 30 ml/min).\n",
            "\n",
            "Incompatibilities:\n",
            "Not applicable.\n",
            "\n",
            "Storage & Handling:\n",
            "Store at room temperature, protected from light and moisture. Keep out of reach of children.\n",
            "\n",
            "Expiry Date:\n",
            "Refer product label for expiry date. Do notuse after expiry date.\n",
            "\n",
            "Presentation:\n",
            "idrofos” 150 tablets are available in strips of 3 tablets.\n",
            "\n",
            "Instructions for Patients:\n",
            "\n",
            "| Take Idrofos” 150 tablet once a month. Choose one date of the month that will be easy to remember and take\n",
            "ldrofos” 150 tablet on that date every month.\n",
            "\n",
            ") Take Idrofos” 150 first thing in the morning on an empty stomach atleast 1 hour (60 minutes) before you eat,\n",
            "drink anything other than plain water, or take any other oral medicine.\n",
            "\n",
            "3. Swallow your Idrofos” 150 with a full glass of plain water. Do not take Idrofos® 150 with other drinks such as\n",
            "mineral water, sparkling water, coffee, tea, dairy drinks (such as milk), or juice.\n",
            "\n",
            "4 Take Idrofos® 150 tablet whole. Do not chew or suck the tablet or keep itin your mouth to melt or dissolve.\n",
            "\n",
            "5 Foratleast 1 hour (60 minutes) after you have taken Idrofos” 150 tablet \n",
            "» Don'tlie down. You may sit, stand, or do normal activities like read the newspaper or take a walk.\n",
            "\n",
            "e Pon’teator drink anything except for plain water.\n",
            "\n",
            "e [on’t take any oral medicines including vitamins, calcium, or antacids. Take your vitamins, calcium, and\n",
            "\n",
            "antacids ata different time of the day from the time when you take Idrofos’ 150.\n",
            "\n",
            "6. If you take too much Idrofos® 150, drink a full glass of milk and consult your doctor right away. Do not make\n",
            "yourself vomit. Do notlie down.\n",
            "\n",
            "7. Keep taking Idrofos” 150 for as long as your doctor tells you. Your doctor may tell you to exercise and take\n",
            "calcium and vitamin supplements to help your osteoporosis.\n",
            "\n",
            "If you forget a dose..\n",
            "\n",
            "If you forget to take your tablet on the morning of your chosen day, don’ttake the tablet later in the day.\n",
            "\n",
            "Instead, follow these instructions:\n",
            "\n",
            "-If your next scheduled dose is more than / days away...\n",
            "\n",
            "(or if your missed dose is less than 3 weeks late), take one tablet the next morning after the day you remember.\n",
            "Then, go back to taking your tablets on the chosen day every month, according to your original schedule.\n",
            "\n",
            "-lf your next scheduled dose is only 1 to 7 days away...\n",
            "\n",
            "(or if your missed dose is more than 3 weeks late), wait until your next scheduled dose is due and take it as\n",
            "normal. Then, go back to taking your tablets on the chosen day every month, according to your original\n",
            "schedule.\n",
            "\n",
            "Never take two Idrofos® 150 tablets within the same week.\n",
            "\n",
            "® Registered Trade Mark =\n",
            "\n",
            "For further details, please write to: S\n",
            "\n",
            "S\n",
            "\n",
            "CO\n",
            "\n",
            "on\n",
            "\n",
            "9 2\n",
            "SUN\n",
            "\n",
            "PHARMA =\n",
            "\n",
            "Acme Plaza, Andheri-Kurla Road, oe\n",
            "\n",
            "Andheri (E), Mumbai 400 059, INDIA. S\n",
            "\n",
            "$2\n",
            "\n",
            "ald\n",
            "\n",
            ".\n",
            "\n",
            " \n",
            "\n",
            " \n",
            "\f\n"
          ],
          "name": "stdout"
        }
      ]
    },
    {
      "cell_type": "markdown",
      "metadata": {
        "id": "gMhoPw6TtL4o"
      },
      "source": [
        "# PreProcessing"
      ]
    },
    {
      "cell_type": "code",
      "metadata": {
        "id": "AhCpm_twsqYD"
      },
      "source": [
        "rawList = rawText.splitlines()"
      ],
      "execution_count": 6,
      "outputs": []
    },
    {
      "cell_type": "code",
      "metadata": {
        "id": "EzyKNGJntj2v"
      },
      "source": [
        "rawList = [item for item in rawList if item.strip()]"
      ],
      "execution_count": 7,
      "outputs": []
    },
    {
      "cell_type": "code",
      "metadata": {
        "colab": {
          "base_uri": "https://localhost:8080/"
        },
        "id": "13z6G5QBtmRw",
        "outputId": "ca2e2aee-9417-4927-80e8-8f6b133e23a4"
      },
      "source": [
        "len(rawList)"
      ],
      "execution_count": 8,
      "outputs": [
        {
          "output_type": "execute_result",
          "data": {
            "text/plain": [
              "198"
            ]
          },
          "metadata": {
            "tags": []
          },
          "execution_count": 8
        }
      ]
    },
    {
      "cell_type": "code",
      "metadata": {
        "colab": {
          "base_uri": "https://localhost:8080/"
        },
        "id": "QyP44USHtop1",
        "outputId": "cb5d51f2-10bf-4e4b-b5a5-2866741cb052"
      },
      "source": [
        "rawList_str = ' '.join(rawList)\r\n",
        "print(rawList_str)"
      ],
      "execution_count": 9,
      "outputs": [
        {
          "output_type": "stream",
          "text": [
            "For the use of a Registered Medical Practitioner or a Hospital or a Laboratory only. Prescribing Information Inandronic Acid Tablets Idrofos 150 Dosage form: Tablets Composition: Each Film Coated Tablet Contains: lbandronic Acid Monosodium Monohydrate equivalentto Ibandronic Acid 150 mg Excipients on Clinical Pharmacology: lbandronic acid is anitrogen containing bisphosphonate that inhibits osteoclast mediated bone resorption. Mechanism of Action The action of ibandronic acid on bone tissue Is based on its affinity for hydroxyapatite, which is part of the mineral matrix of bone. Ibandronic acid inhibits osteoclast activity and reduces bone resorption and turnover. In post menopausal women, it reduces the elevated rate of bone turnover, leading to, on average, a net gain in bone mass. Pharmacokinetics The absorption of oral ibandronic acid occurs in the upper gastrointestinal tract. Plasma concentrations increase ina dose linear manner up to 50 mg oral intake and increases nonlinearly above this dose. Following oral dosing, the time to maximum observed plasma ibandronic acid concentrations ranged from 0.5 to 2 hours (median 1 hour) in fasted healthy postmenopausal women. The oral bioavailability of ibandronic acid is reduced by about 90% when it is administered concomitantly with a standard breakfast in comparison with bioavailability observed in fasted subjects. There is no meaningful reduction in bioavailability when ibandronic acid is taken at least 60 minutes before a meal. However, voth bioavailability and the effect on bone mineral density (BMD) are reduced when food or beverages are taken less than 60 minutes following an ibandronic acid dose. After absorption, ibandronic acid either rapidly binds to bone or is excreted into urine. In humans, the apparent terminal volume of distribution is at least 90 L, and the amount of dose removed from the circulation via the bone is estimated to be 40% to 50% of the circulating dose. In vitro protein binding in human serum was 99.5% +o 90.9% over an ibandronic acid concentration range of 2 to 10 ng/ml in one study and approximately 85.7% over a concentration range of 0.5 to 10 ng/ml in another study. There is no evidence that ibandronic acid is metabolised in humans. The portion of ibandronic acid that is not removed from the circulation via bone absorption is eliminated unchanged by the kidney (approximately 50% +o 60% of the absorbed dose). Unabsorbed ibandronic acid is eliminated unchanged in the feces. The plasma elimination of ibandronic acid is multiphasic. Its renal clearance and distribution into bone accounts for a rapid and early decline in plasma concentrations, reaching 10% of the Cmax within 3 or § hours after intravenous or oral administration, respectively. This is followed by a slower clearance phase as ‘bandronic acid redistributes back into the blood from bone. The observed apparent terminal half-life for ibandronic acid is generally dependent on the dose studied and on assay sensitivity. The observed apparent terminal half-life for the 150 mg ibandronic acid tablet upon oral administration to healthy postmenopausal women ranges from 37 to 157 hours. Total clearance of ibandronic acid is low, with average values in the range 84 to 160 ml/min. Renal clearance (about 60 ml/min in healthy postmenopausal females) accounts for 50% to 60% of total clearance and Is related to creatinine clearance. The difference between the apparent total and renal clearances likely reflects bone uptake of the drug. The pharmacokinetics of ibandronic acid has not been studied in patients < 18 years of age. Since ibandronic acid is not known to be metabolised, the only difference in ibandronic acid elimination for geriatric patients versus younger patients is expected to relate to progressive age related changes in renal function. Renal clearance of ibandronic acid in patients with various degrees of renal impairment is linearly related to creatinine clearance (Clcr). Following a single dose of 0.5 mg ibandronic acid by intravenous administration, patients with CLcr 40 to 70 ml/min had 55% higher exposure (AUC ..) than the exposure observed in subjects with CLer > 90 ml/min. Patients with CLer < 30 ml/min had more than a two fold increase in exposure compared to the exposure for healthy subjects. No studies have been performed to assess the oharmacokinetics of ibandronic acid in patients with hepatic impairment since ibandronic acid is not metabolised in the human liver. Indications: Idrofos® 150 is indicated for the treatment and prevention of osteoporosis in postmenopausal women. Contra-indications: e Knownhypersensitivity to ibandronic acid or to any of its excipients. e Uncorrected hypocalcemia. e _|nability to stand or sit upright for at least 60 minutes. lAlarninase and Precautions: = . Hypocalcemia and other disturbances of bone and mineral metabolism should be effectively treated before starting ibandronic acid therapy. Adequate intake of calcium and vitamin D is importantin all patients. Osteonecrosis, primarily in the jaw, has been reported in patients treated with bisphosphonates. Most cases have been in cancer patients undergoing dental procedures, but some have occurred in patients with postmenopausal osteoporosis or other diagnoses. Known risk factors for osteonecrosis include a diagnosis of cancer, concomitant therapies (e.g., chemotherapy, radiotherapy, corticosteroids), and co-morbid disorders (e.g., anemia, coagulopathy, infection, pre-existing dental disease). Most reported cases have been in patients treated with bisphosphonates intravenously but some have been in patients treated orally. For patients who develop osteonecrosis of the jaw (ONJ) while on bisphosphonate therapy, dental surgery may exacerbate the condition. In postmarketing experience, severe and occasionally incapacitating bone, joint, and/or muscle pain has been reported in patients taking bisphosphonates that are approved for the prevention and treatment of osteoporosis. However, such reports have been infrequent. This category of drugs include ibandronic acid tablets. Most of the patients were postmenopausal women. The time to onset of symptoms varied from one day to several months after starting the drug. Most patients had relief of symptoms after stopping. A subset had recurrence of symptoms when rechallenged with the same drug or another bisphosphonate. Bisphosphonates are known to interfere with the use of bone imaging agents. Specific studies with ibandronic acid have not been performed. Physicians should be alert to signs or symptoms signaling a possible esophageal reaction during therapy, and patients should be instructed to discontinue ibandronic acid and seek medical attention if they develop symptoms of esophageal irritation such as new or worsening dysphagia, pain on swallowing, retrosternal pain, or heartburn. Ibandronic acid is not recommended for patients with a creatinine clearance below 30 ml/min. Pregnancy & Lactation There are no adequate and well controlled studies in pregnant women. lbandronic acid should be used during pregnancy only if the potential benefit justifies the potential risk to the mother and fetus. tis not known whether ibandronic acid is excreted in human milk. Because many drugs are excreted in human milk, caution should be exercised when ibandronic acidis administered to a nursing woman. Drug Interactions: A pharmacokinetic interaction study in healthy volunteers demonstrated that 75 mg ranitidine (25 mg injected intravenously 90 and 15 minutes before and 30 minutes after ibandronic acid administration) increased the oral bioavailability of 10 mg ibandronic acid by about 20%. This degree of increase is not considered to be clinically relevant. Pharmacokinetic interaction studies in postmenopausal women have demonstrated the absence of any interaction potential with tamoxifen or hormone replacement therapy (estrogen). No interaction was observed when coadministered with melphalan/prednisolone in patients with multiple myeloma. Products containing calcium and other multivalent cations (such as aluminium, magnesium, iron), including milk, are likely to interfere with absorption of thandronic acid. Ibandronic acid should be taken at least 60 minutes before any oral medications containing multivalent cations (including antacids, supplements 01 vitamins). Patients should fast overnight (at least 6 hours) before taking ibandronic acid and continue fasting for 1 hour following intake of ibandronic acid. Since aspirin, NSAIDs, and bisphosphonates are all associated with gastrointestinal irritation, caution should be exercised in the concomitant use of aspirin or NSAIDs with ibandronic acid. Side effects: The most commonly reported adverse effects are back pain, pain in extremity, infection, asthenia, allergic reaction, dyspepsia, diarrhea, tooth disorder, vomiting, gastritis, hypercholesteralemia, myalgia, joint disorder, arthritis, headache, hypertension, dizziness, vertigo, nerve root lesion, muscle cramp, upper respiratory infection, bronchitis, pneumonia, pharyngitis, urinary tract infection, nausea, constipation, abdominal pain, arthralgia, localised osteoarthritis, influenza, nasopharyngitis, influenza like illness, rash, insomnia, fatigue, flatulence, gastroesophageal reflux disease, musculoskeletal pain, fever, chills, loss of appetite, bone pain. Reports in the medical literature indicate that bisphosphonates may be associated with ocular inflammation such as uveitis and scleritis. In some cases, these events did not resolve until the bisphosphonate was discontinued. Two patients who received ibandronic acid monthly experienced ocular inflammation, one was a case of uveitis and the other scleritis. Overdosage: No specific information is available on the treatment of overdosage with Idrofos” 150. However, based on knowledge of this class of compounds, oral overdosage may result in hypocalcemia, hypophosphatemia and upper gastrointestinal adverse events, such as upsel stomach, dyspepsia, esophagitis, gastritis, or ulcer. Milk or antacids should be given to bind ibandronic acid. Due to the risk of esophageal irritation, vomiting should not be induced, and the patient should remain fully upright. Dialysis would not be beneficial. Dosage and Administration: The recommended dose is one ldrofos® 150 tablettaken once monthly onthe same date each month. To maximize absorption and clinical benefit, Idrofos” 150 should be taken after an overnight fast (atleast 6 hours) and at least 60 minutes before the first food or drink (other than water) of the day or before taking any oral medication or supplementation, including calcium, antacids, or vitamins. can nl levtbadiann Ieluntan” {RM tnhlate Plain water is the only drink that should be taken with Idrofos® 150. It should be noted that some mineral waters may have a higher concentration of calcium and therefore should not be used. Patients should not chew or suck the tablet because of a potential oropharyngeal ulceration. The Idrofos® 150 tablet should be taken on the same date each month. ifthe once monthly dose is missed, and the patient's next scheduled Idrofos® 150 day is more than 7 days away, the patient should be instructed to take one Idrofos” 150 tablet in the morning following the date that it is remembered. The patient should then return to taking one Idrofes® 150 tablet every month in the morning of their chosen day, according to their original schedule. The patient must not take two 150 mg tablets within the same week. If the patient's next scheduled Idrofos® 150 day is only 1 to 7 days away, the patient must wait until their next scheduled Idrofos” 150 day to take their tablet. The patient should then return to taking one Idrofos” 150 every month in the morning of their chosen day, according to their original schedule. Patients should receive supplemental calcium or vitamin D if dietary intake is inadequate. Elderly. No dosage adjustmentis necessary in elderly. Pediatric use: Safety and effectiveness in pediatric patients have not been established. Hepatic impairment: No dose adjustments necessary. Renal impairment: No dose adjustment is necessary for patients with mild or moderate renal impairment where creatinine clearance is equal to or greater than 30 ml/min. Idrofos” 150 is not recommended for use in patients with severe renal impairment (creatinine clearance of < 30 ml/min). Incompatibilities: Not applicable. Storage & Handling: Store at room temperature, protected from light and moisture. Keep out of reach of children. Expiry Date: Refer product label for expiry date. Do notuse after expiry date. Presentation: idrofos” 150 tablets are available in strips of 3 tablets. Instructions for Patients: | Take Idrofos” 150 tablet once a month. Choose one date of the month that will be easy to remember and take ldrofos” 150 tablet on that date every month. ) Take Idrofos” 150 first thing in the morning on an empty stomach atleast 1 hour (60 minutes) before you eat, drink anything other than plain water, or take any other oral medicine. 3. Swallow your Idrofos” 150 with a full glass of plain water. Do not take Idrofos® 150 with other drinks such as mineral water, sparkling water, coffee, tea, dairy drinks (such as milk), or juice. 4 Take Idrofos® 150 tablet whole. Do not chew or suck the tablet or keep itin your mouth to melt or dissolve. 5 Foratleast 1 hour (60 minutes) after you have taken Idrofos” 150 tablet  » Don'tlie down. You may sit, stand, or do normal activities like read the newspaper or take a walk. e Pon’teator drink anything except for plain water. e [on’t take any oral medicines including vitamins, calcium, or antacids. Take your vitamins, calcium, and antacids ata different time of the day from the time when you take Idrofos’ 150. 6. If you take too much Idrofos® 150, drink a full glass of milk and consult your doctor right away. Do not make yourself vomit. Do notlie down. 7. Keep taking Idrofos” 150 for as long as your doctor tells you. Your doctor may tell you to exercise and take calcium and vitamin supplements to help your osteoporosis. If you forget a dose.. If you forget to take your tablet on the morning of your chosen day, don’ttake the tablet later in the day. Instead, follow these instructions: -If your next scheduled dose is more than / days away... (or if your missed dose is less than 3 weeks late), take one tablet the next morning after the day you remember. Then, go back to taking your tablets on the chosen day every month, according to your original schedule. -lf your next scheduled dose is only 1 to 7 days away... (or if your missed dose is more than 3 weeks late), wait until your next scheduled dose is due and take it as normal. Then, go back to taking your tablets on the chosen day every month, according to your original schedule. Never take two Idrofos® 150 tablets within the same week. ® Registered Trade Mark = For further details, please write to: S S CO on 9 2 SUN PHARMA = Acme Plaza, Andheri-Kurla Road, oe Andheri (E), Mumbai 400 059, INDIA. S $2 ald .\n"
          ],
          "name": "stdout"
        }
      ]
    },
    {
      "cell_type": "code",
      "metadata": {
        "id": "aEJ9lq6_tuWz"
      },
      "source": [
        "from nltk.tokenize import sent_tokenize\r\n",
        "sentences = []\r\n",
        "for s in rawList_str.splitlines():\r\n",
        "  sentences.append(sent_tokenize(s))\r\n",
        "\r\n",
        "sentences = [y for x in sentences for y in x]"
      ],
      "execution_count": 10,
      "outputs": []
    },
    {
      "cell_type": "code",
      "metadata": {
        "colab": {
          "base_uri": "https://localhost:8080/"
        },
        "id": "WkwCv3dVuRee",
        "outputId": "bb9bd526-5547-4c76-a6bb-a0a4c19c187e"
      },
      "source": [
        "print(sentences[:5])"
      ],
      "execution_count": 11,
      "outputs": [
        {
          "output_type": "stream",
          "text": [
            "['For the use of a Registered Medical Practitioner or a Hospital or a Laboratory only.', 'Prescribing Information Inandronic Acid Tablets Idrofos 150 Dosage form: Tablets Composition: Each Film Coated Tablet Contains: lbandronic Acid Monosodium Monohydrate equivalentto Ibandronic Acid 150 mg Excipients on Clinical Pharmacology: lbandronic acid is anitrogen containing bisphosphonate that inhibits osteoclast mediated bone resorption.', 'Mechanism of Action The action of ibandronic acid on bone tissue Is based on its affinity for hydroxyapatite, which is part of the mineral matrix of bone.', 'Ibandronic acid inhibits osteoclast activity and reduces bone resorption and turnover.', 'In post menopausal women, it reduces the elevated rate of bone turnover, leading to, on average, a net gain in bone mass.']\n"
          ],
          "name": "stdout"
        }
      ]
    },
    {
      "cell_type": "code",
      "metadata": {
        "id": "3CCjWoo2uXY3"
      },
      "source": [
        "clean_sentences = pd.Series(sentences).str.replace(\"[^a-zA-Z]\", \" \")\r\n",
        "\r\n",
        "# make alphabets lowercase\r\n",
        "clean_sentences = [s.lower() for s in clean_sentences]"
      ],
      "execution_count": 12,
      "outputs": []
    },
    {
      "cell_type": "code",
      "metadata": {
        "colab": {
          "base_uri": "https://localhost:8080/"
        },
        "id": "lCIuccsYudv0",
        "outputId": "ef048cad-c6da-4747-d7c6-0a1f7038ef1d"
      },
      "source": [
        "print(clean_sentences[:5])"
      ],
      "execution_count": 13,
      "outputs": [
        {
          "output_type": "stream",
          "text": [
            "['for the use of a registered medical practitioner or a hospital or a laboratory only ', 'prescribing information inandronic acid tablets idrofos     dosage form  tablets composition  each film coated tablet contains  lbandronic acid monosodium monohydrate equivalentto ibandronic acid     mg excipients on clinical pharmacology  lbandronic acid is anitrogen containing bisphosphonate that inhibits osteoclast mediated bone resorption ', 'mechanism of action the action of ibandronic acid on bone tissue is based on its affinity for hydroxyapatite  which is part of the mineral matrix of bone ', 'ibandronic acid inhibits osteoclast activity and reduces bone resorption and turnover ', 'in post menopausal women  it reduces the elevated rate of bone turnover  leading to  on average  a net gain in bone mass ']\n"
          ],
          "name": "stdout"
        }
      ]
    },
    {
      "cell_type": "code",
      "metadata": {
        "colab": {
          "base_uri": "https://localhost:8080/"
        },
        "id": "qawojM14utV4",
        "outputId": "288edf9a-7787-4151-a41d-4cd5d87218d4"
      },
      "source": [
        "nltk.download('stopwords')"
      ],
      "execution_count": 14,
      "outputs": [
        {
          "output_type": "stream",
          "text": [
            "[nltk_data] Downloading package stopwords to /root/nltk_data...\n",
            "[nltk_data]   Unzipping corpora/stopwords.zip.\n"
          ],
          "name": "stdout"
        },
        {
          "output_type": "execute_result",
          "data": {
            "text/plain": [
              "True"
            ]
          },
          "metadata": {
            "tags": []
          },
          "execution_count": 14
        }
      ]
    },
    {
      "cell_type": "code",
      "metadata": {
        "id": "3fbLaEiruztd"
      },
      "source": [
        "from nltk.corpus import stopwords\r\n",
        "stop_words = stopwords.words('english')"
      ],
      "execution_count": 15,
      "outputs": []
    },
    {
      "cell_type": "code",
      "metadata": {
        "id": "P_Ga84AEu27o"
      },
      "source": [
        "def remove_stopwords(sen):\r\n",
        "    sen_new = \" \".join([i for i in sen if i not in stop_words])\r\n",
        "    return sen_new"
      ],
      "execution_count": 16,
      "outputs": []
    },
    {
      "cell_type": "code",
      "metadata": {
        "id": "hCQ5ORAAu5kF"
      },
      "source": [
        "clean_sentences = [remove_stopwords(r.split()) for r in clean_sentences]"
      ],
      "execution_count": 17,
      "outputs": []
    },
    {
      "cell_type": "code",
      "metadata": {
        "colab": {
          "base_uri": "https://localhost:8080/"
        },
        "id": "VaM9FGFXu7Go",
        "outputId": "6d300a64-d883-452d-9dd1-3211b8fa88c2"
      },
      "source": [
        "print(clean_sentences[:5])"
      ],
      "execution_count": 18,
      "outputs": [
        {
          "output_type": "stream",
          "text": [
            "['use registered medical practitioner hospital laboratory', 'prescribing information inandronic acid tablets idrofos dosage form tablets composition film coated tablet contains lbandronic acid monosodium monohydrate equivalentto ibandronic acid mg excipients clinical pharmacology lbandronic acid anitrogen containing bisphosphonate inhibits osteoclast mediated bone resorption', 'mechanism action action ibandronic acid bone tissue based affinity hydroxyapatite part mineral matrix bone', 'ibandronic acid inhibits osteoclast activity reduces bone resorption turnover', 'post menopausal women reduces elevated rate bone turnover leading average net gain bone mass']\n"
          ],
          "name": "stdout"
        }
      ]
    },
    {
      "cell_type": "code",
      "metadata": {
        "id": "vv1pO4DUu-fG"
      },
      "source": [
        "clean_doc = '. '.join(clean_sentences)\r\n",
        "clean_doc += '.'"
      ],
      "execution_count": 19,
      "outputs": []
    },
    {
      "cell_type": "markdown",
      "metadata": {
        "id": "QVMeuIcZ5jXs"
      },
      "source": [
        "## Save Preprocessed File"
      ]
    },
    {
      "cell_type": "code",
      "metadata": {
        "id": "WuRfVa0S5MVN"
      },
      "source": [
        "with open(\"output.txt\", \"w\") as f:\r\n",
        "  f.write(clean_doc)"
      ],
      "execution_count": 130,
      "outputs": []
    },
    {
      "cell_type": "markdown",
      "metadata": {
        "id": "4dQWF6Rw5wgu"
      },
      "source": [
        "## Read Preprocessed File"
      ]
    },
    {
      "cell_type": "code",
      "metadata": {
        "id": "WrxqwjvV50Qd"
      },
      "source": [
        "with open(\"output.txt\", \"r\") as f:\r\n",
        "  clean_doc = f.read()"
      ],
      "execution_count": null,
      "outputs": []
    },
    {
      "cell_type": "code",
      "metadata": {
        "colab": {
          "base_uri": "https://localhost:8080/"
        },
        "id": "D-k4mUyjvGoG",
        "outputId": "aa7fc30d-9f23-412e-874e-41b91022987a"
      },
      "source": [
        "doc = nlp(clean_doc)\r\n",
        "for sents in doc.sents:\r\n",
        "    print(sents.text)"
      ],
      "execution_count": 20,
      "outputs": [
        {
          "output_type": "stream",
          "text": [
            "use registered medical practitioner hospital laboratory.\n",
            "prescribing information inandronic acid tablets idrofos dosage form tablets composition film coated tablet contains lbandronic acid monosodium monohydrate equivalentto ibandronic acid mg excipients clinical pharmacology lbandronic acid anitrogen containing bisphosphonate inhibits osteoclast mediated bone resorption.\n",
            "mechanism action action ibandronic acid bone tissue based affinity hydroxyapatite part mineral matrix bone.\n",
            "ibandronic acid inhibits osteoclast activity reduces bone resorption turnover.\n",
            "post menopausal women reduces elevated rate bone turnover leading average net gain bone mass.\n",
            "pharmacokinetics absorption oral ibandronic acid occurs upper gastrointestinal tract.\n",
            "plasma concentrations increase ina dose linear manner mg oral intake increases nonlinearly dose.\n",
            "following oral dosing time maximum observed plasma ibandronic acid concentrations ranged hours median hour fasted healthy postmenopausal women.\n",
            "oral bioavailability ibandronic acid reduced administered concomitantly standard breakfast comparison bioavailability observed fasted subjects.\n",
            "meaningful reduction bioavailability ibandronic acid taken least minutes meal.\n",
            "however voth bioavailability effect bone mineral density bmd\n",
            "reduced food beverages taken less minutes following ibandronic acid dose.\n",
            "absorption ibandronic acid either rapidly binds bone excreted urine.\n",
            "humans apparent terminal volume distribution least l amount dose removed circulation via bone estimated circulating dose.\n",
            "vitro protein binding human serum ibandronic acid concentration range ng\n",
            "ml one study approximately concentration range ng ml\n",
            "another study.\n",
            "evidence ibandronic acid metabolised humans.\n",
            "portion ibandronic acid removed circulation via bone absorption eliminated unchanged kidney approximately absorbed dose.\n",
            "unabsorbed ibandronic acid eliminated unchanged feces.\n",
            "plasma elimination ibandronic acid multiphasic.\n",
            "renal clearance distribution bone accounts rapid early decline plasma concentrations reaching cmax within hours intravenous oral administration respectively.\n",
            "followed slower clearance phase bandronic acid redistributes back blood bone.\n",
            "observed apparent terminal half life ibandronic acid generally dependent dose studied assay sensitivity.\n",
            "observed apparent terminal half life mg ibandronic acid tablet upon oral administration healthy postmenopausal women ranges hours.\n",
            "total clearance ibandronic acid low average values range ml min.\n",
            "renal clearance\n",
            "ml min healthy postmenopausal females accounts total clearance related creatinine clearance.\n",
            "difference apparent total renal clearances likely reflects bone uptake drug.\n",
            "pharmacokinetics ibandronic acid studied patients years age.\n",
            "since ibandronic acid known metabolised difference ibandronic acid elimination geriatric patients versus younger patients expected relate progressive age related changes renal function.\n",
            "renal clearance ibandronic acid patients\n",
            "various degrees renal impairment linearly related creatinine clearance clcr.\n",
            "following single dose mg ibandronic acid intravenous administration patients clcr ml min higher exposure auc exposure observed subjects cler ml min.\n",
            "patients cler\n",
            "ml min two fold increase exposure compared exposure healthy subjects.\n",
            "studies performed assess oharmacokinetics ibandronic acid patients hepatic impairment since ibandronic acid metabolised human liver.\n",
            "indications idrofos indicated treatment prevention osteoporosis postmenopausal women.\n",
            "contra indications e knownhypersensitivity ibandronic acid excipients.\n",
            "e uncorrected hypocalcemia.\n",
            "e nability stand sit upright least minutes.\n",
            "lalarninase precautions.\n",
            "hypocalcemia disturbances bone mineral metabolism effectively treated starting ibandronic acid therapy.\n",
            "adequate intake calcium vitamin importantin patients.\n",
            "osteonecrosis primarily jaw reported patients treated bisphosphonates.\n",
            "cases cancer patients undergoing dental procedures occurred patients postmenopausal osteoporosis diagnoses.\n",
            "known risk factors osteonecrosis include diagnosis cancer concomitant therapies\n",
            "e g chemotherapy\n",
            "radiotherapy corticosteroids\n",
            "co morbid disorders e g anemia coagulopathy infection\n",
            "pre existing dental disease.\n",
            "reported cases patients treated bisphosphonates intravenously patients treated orally.\n",
            "patients develop osteonecrosis jaw onj bisphosphonate therapy dental surgery may exacerbate condition.\n",
            "postmarketing experience severe occasionally incapacitating bone joint muscle pain reported patients taking bisphosphonates approved prevention treatment osteoporosis.\n",
            "however reports infrequent.\n",
            "category drugs include ibandronic acid tablets.\n",
            "patients postmenopausal women.\n",
            "time onset symptoms varied one day several months starting drug.\n",
            "patients relief symptoms stopping.\n",
            "subset recurrence symptoms rechallenged drug another bisphosphonate.\n",
            "bisphosphonates known interfere use bone imaging agents.\n",
            "specific studies ibandronic acid performed.\n",
            "physicians alert signs symptoms signaling possible esophageal reaction therapy patients instructed discontinue ibandronic acid seek medical attention develop symptoms esophageal irritation new worsening dysphagia pain swallowing retrosternal pain heartburn.\n",
            "ibandronic acid recommended patients creatinine clearance ml min.\n",
            "pregnancy lactation\n",
            "adequate well controlled studies pregnant women.\n",
            "lbandronic acid used pregnancy potential benefit justifies potential risk mother fetus.\n",
            "tis known whether ibandronic acid excreted human milk.\n",
            "many drugs excreted human milk caution exercised ibandronic acidis administered nursing woman.\n",
            "drug interactions pharmacokinetic interaction study healthy volunteers demonstrated mg ranitidine mg injected\n",
            "intravenously minutes minutes ibandronic acid administration increased oral bioavailability mg ibandronic acid.\n",
            "degree increase considered clinically relevant.\n",
            "pharmacokinetic interaction studies\n",
            "postmenopausal women demonstrated absence interaction potential tamoxifen hormone replacement therapy estrogen.\n",
            "interaction observed coadministered melphalan prednisolone patients multiple myeloma.\n",
            "products containing calcium multivalent cations aluminium magnesium iron including milk likely interfere absorption thandronic acid.\n",
            "ibandronic acid taken least minutes oral medications containing multivalent cations including antacids supplements vitamins.\n",
            "patients fast overnight least hours taking ibandronic acid continue fasting hour following intake ibandronic acid.\n",
            "since aspirin nsaids bisphosphonates associated gastrointestinal irritation caution exercised concomitant use aspirin nsaids ibandronic acid.\n",
            "side effects commonly reported adverse effects back pain pain extremity infection asthenia allergic reaction dyspepsia diarrhea tooth disorder vomiting gastritis hypercholesteralemia myalgia joint disorder arthritis headache hypertension dizziness vertigo\n",
            "nerve root lesion muscle cramp upper respiratory infection bronchitis pneumonia pharyngitis urinary tract infection nausea constipation abdominal pain arthralgia localised osteoarthritis influenza nasopharyngitis influenza like illness rash insomnia fatigue flatulence gastroesophageal reflux disease musculoskeletal pain fever chills loss appetite bone pain.\n",
            "reports medical literature indicate bisphosphonates may associated ocular inflammation uveitis scleritis.\n",
            "cases events resolve bisphosphonate discontinued.\n",
            "two patients received ibandronic acid monthly experienced ocular inflammation one case uveitis scleritis.\n",
            "overdosage specific information available treatment overdosage idrofos.\n",
            "however based knowledge class compounds oral overdosage may result hypocalcemia hypophosphatemia upper gastrointestinal adverse events\n",
            "upsel stomach dyspepsia esophagitis gastritis ulcer.\n",
            "milk antacids given bind ibandronic acid.\n",
            "due risk esophageal irritation vomiting induced patient remain fully upright.\n",
            "dialysis would beneficial.\n",
            "dosage administration recommended dose one ldrofos tablettaken monthly onthe date month.\n",
            "maximize absorption clinical benefit idrofos taken overnight fast atleast hours least minutes first food drink water day taking oral medication supplementation including calcium antacids vitamins.\n",
            "nl\n",
            "levtbadiann ieluntan\n",
            "rm tnhlate plain water drink taken idrofos.\n",
            "noted mineral waters may higher concentration calcium therefore used.\n",
            "patients chew suck tablet potential oropharyngeal ulceration.\n",
            "idrofos tablet taken date month.\n",
            "ifthe monthly dose missed patient next scheduled idrofos day days away patient instructed take one idrofos tablet morning following date remembered.\n",
            "patient return taking one idrofes tablet every month morning chosen day according original schedule.\n",
            "patient must take two mg tablets within week.\n",
            "patient next scheduled idrofos day days away patient must wait next scheduled idrofos day take tablet.\n",
            "patient return taking one idrofos every month morning chosen day according original schedule.\n",
            "patients receive supplemental calcium vitamin dietary intake inadequate.\n",
            "elderly.\n",
            "dosage adjustmentis necessary elderly.\n",
            "pediatric use safety effectiveness pediatric patients established.\n",
            "hepatic impairment dose adjustments necessary.\n",
            "renal impairment dose adjustment necessary patients mild moderate renal impairment creatinine clearance equal greater ml min.\n",
            "idrofos recommended use patients severe renal impairment creatinine clearance ml min. incompatibilities applicable.\n",
            "storage handling store room temperature protected light moisture.\n",
            "keep reach children.\n",
            "expiry date refer product label expiry date.\n",
            "notuse expiry date.\n",
            "presentation idrofos tablets available strips tablets.\n",
            "instructions patients take idrofos tablet month.\n",
            "choose one date month easy remember take ldrofos tablet date every month.\n",
            "take idrofos first thing morning empty stomach\n",
            "atleast hour minutes eat drink anything plain water take oral medicine. .\n",
            "swallow idrofos full glass plain water.\n",
            "take idrofos drinks mineral water sparkling water coffee tea dairy drinks milk juice.\n",
            "take idrofos tablet whole.\n",
            "chew suck tablet keep itin mouth melt dissolve.\n",
            "foratleast hour minutes taken idrofos tablet tlie.\n",
            "may sit stand normal activities like read newspaper take walk.\n",
            "e pon teator drink anything except plain water.\n",
            "e take oral medicines including vitamins calcium antacids.\n",
            "take vitamins calcium antacids\n",
            "ata different time day time take idrofos. .\n",
            "take much idrofos drink\n",
            "full glass milk consult doctor right away.\n",
            "make vomit.\n",
            "notlie. .\n",
            "keep taking idrofos long doctor tells.\n",
            "doctor may tell exercise take calcium vitamin supplements help osteoporosis.\n",
            "forget dose.\n",
            "forget take tablet morning chosen day ttake tablet later day.\n",
            "instead follow instructions next scheduled dose days away missed dose\n",
            "less weeks late take one tablet next morning day remember.\n",
            "go back taking tablets chosen day every month according original schedule.\n",
            "lf next scheduled dose days away\n",
            "missed dose weeks late wait\n",
            "next scheduled dose due take normal.\n",
            "go back taking tablets chosen day every month according original schedule.\n",
            "never take two idrofos tablets within week.\n",
            "registered trade mark details please write co sun pharma acme plaza andheri kurla road oe andheri e mumbai india.\n",
            "ald.\n"
          ],
          "name": "stdout"
        }
      ]
    },
    {
      "cell_type": "code",
      "metadata": {
        "id": "9BKF1XOIvJQz"
      },
      "source": [
        "#token.dep_, token.shape_, token.is_alpha, token.is_stop\r\n",
        "from tabulate import tabulate\r\n",
        "pos_res = []\r\n",
        "text = []\r\n",
        "tags = []\r\n",
        "i = 0\r\n",
        "for token in doc:\r\n",
        "    #if token.text == '.':\r\n",
        "      #i +=1\r\n",
        "      #if i >10:\r\n",
        "      #  break;\r\n",
        "    if token.tag_ not in tags and token.is_punct == False:\r\n",
        "      tags.append(token.tag_)\r\n",
        "    if token.is_punct == False and token.text not in text:\r\n",
        "      text.append(token.text)\r\n",
        "    pos_res.append([token.text, token.tag_,token.is_sent_start,token.suffix_, token.is_punct])"
      ],
      "execution_count": 78,
      "outputs": []
    },
    {
      "cell_type": "code",
      "metadata": {
        "id": "490Rm_4NfNaq"
      },
      "source": [
        "###### test create ####\r\n",
        "#######if you want to create for a specific number of sentences instead of fulldoc\r\n",
        "\r\n",
        "from tabulate import tabulate\r\n",
        "pos_res = []\r\n",
        "text = []\r\n",
        "tags = []\r\n",
        "i = 0\r\n",
        "for token in doc:\r\n",
        "    if token.text == '.':\r\n",
        "      i +=1\r\n",
        "      if i >40:\r\n",
        "        break;\r\n",
        "    if token.tag_ not in tags and token.is_punct == False:\r\n",
        "      tags.append(token.tag_)\r\n",
        "    if token.is_punct == False and token.text not in text:\r\n",
        "      text.append(token.text)\r\n",
        "    pos_res.append([token.text, token.tag_,token.is_sent_start,token.suffix_, token.is_punct])"
      ],
      "execution_count": 104,
      "outputs": []
    },
    {
      "cell_type": "code",
      "metadata": {
        "colab": {
          "base_uri": "https://localhost:8080/"
        },
        "id": "2Egy3ebbvRos",
        "outputId": "a78085c1-f418-45e9-ad50-1249364f4f77"
      },
      "source": [
        "\r\n",
        "pos_res[0:5]    \r\n",
        "print(tabulate([pos_res[i][:5] for i in range(20)], headers = ['TEXT', 'LEMMA', 'POS', 'TAG', 'DEP', 'SHAPE', 'ALPHA', 'STOP']))"
      ],
      "execution_count": 105,
      "outputs": [
        {
          "output_type": "stream",
          "text": [
            "TEXT          LEMMA    POS    TAG    DEP\n",
            "------------  -------  -----  -----  -----\n",
            "use           NN       True   use    False\n",
            "registered    VBD             red    False\n",
            "medical       NNP             cal    False\n",
            "practitioner  NNP             ner    False\n",
            "hospital      NNP             tal    False\n",
            "laboratory    NNP             ory    False\n",
            ".             .               .      True\n",
            "prescribing   VBG      True   ing    False\n",
            "information   NN              ion    False\n",
            "inandronic    JJ              nic    False\n",
            "acid          NN              cid    False\n",
            "tablets       NNS             ets    False\n",
            "idrofos       JJ              fos    False\n",
            "dosage        NN              age    False\n",
            "form          NN              orm    False\n",
            "tablets       VBZ             ets    False\n",
            "composition   NN              ion    False\n",
            "film          NN              ilm    False\n",
            "coated        VBD             ted    False\n",
            "tablet        NN              let    False\n"
          ],
          "name": "stdout"
        }
      ]
    },
    {
      "cell_type": "markdown",
      "metadata": {
        "id": "DkSBWsTxvpLs"
      },
      "source": [
        "# HMM"
      ]
    },
    {
      "cell_type": "markdown",
      "metadata": {
        "id": "qGaBmX0YvxLB"
      },
      "source": [
        "## Emmision and Probability Matrices"
      ]
    },
    {
      "cell_type": "code",
      "metadata": {
        "colab": {
          "base_uri": "https://localhost:8080/"
        },
        "id": "C0gHIfgDxx2G",
        "outputId": "937b6b11-0271-468e-9008-d57632b2c9f2"
      },
      "source": [
        "print(text)"
      ],
      "execution_count": null,
      "outputs": [
        {
          "output_type": "stream",
          "text": [
            "['use', 'registered', 'medical', 'practitioner', 'hospital', 'laboratory', 'prescribing', 'information', 'inandronic', 'acid', 'tablets', 'idrofos', 'dosage', 'form', 'composition', 'film', 'coated', 'tablet', 'contains', 'lbandronic', 'monosodium', 'monohydrate', 'equivalentto', 'ibandronic', 'mg', 'excipients', 'clinical', 'pharmacology', 'anitrogen', 'containing', 'bisphosphonate', 'inhibits', 'osteoclast', 'mediated', 'bone', 'resorption', 'mechanism', 'action', 'tissue', 'based', 'affinity', 'hydroxyapatite', 'part', 'mineral', 'matrix', 'activity', 'reduces', 'turnover', 'post', 'menopausal', 'women', 'elevated', 'rate', 'leading', 'average', 'net', 'gain', 'mass', 'pharmacokinetics', 'absorption', 'oral', 'occurs', 'upper', 'gastrointestinal', 'tract', 'plasma', 'concentrations', 'increase', 'ina', 'dose', 'linear', 'manner', 'intake', 'increases', 'nonlinearly', 'following', 'dosing', 'time', 'maximum', 'observed', 'ranged', 'hours', 'median', 'hour', 'fasted', 'healthy', 'postmenopausal', 'bioavailability', 'reduced', 'administered', 'concomitantly', 'standard', 'breakfast', 'comparison', 'subjects', 'meaningful', 'reduction', 'taken', 'least', 'minutes', 'meal', 'however', 'voth', 'effect', 'density', 'bmd', 'food', 'beverages', 'less', 'either', 'rapidly', 'binds', 'excreted', 'urine', 'humans', 'apparent', 'terminal', 'volume', 'distribution', 'l', 'amount', 'removed', 'circulation', 'via', 'estimated', 'circulating', 'vitro', 'protein', 'binding', 'human', 'serum', 'concentration', 'range', 'ng', 'ml', 'one', 'study', 'approximately', 'another', 'evidence', 'metabolised', 'portion', 'eliminated', 'unchanged', 'kidney', 'absorbed', 'unabsorbed', 'feces', 'elimination', 'multiphasic', 'renal', 'clearance', 'accounts', 'rapid', 'early', 'decline', 'reaching', 'cmax', 'within', 'intravenous', 'administration', 'respectively', 'followed', 'slower', 'phase', 'bandronic', 'redistributes', 'back', 'blood', 'half', 'life', 'generally', 'dependent', 'studied', 'assay', 'sensitivity', 'upon', 'ranges', 'total', 'low', 'values', 'min', 'females', 'related', 'creatinine', 'difference', 'clearances', 'likely', 'reflects', 'uptake', 'drug', 'patients', 'years', 'age', 'since', 'known', 'geriatric', 'versus', 'younger', 'expected', 'relate', 'progressive', 'changes', 'function', 'various', 'degrees', 'impairment', 'linearly', 'clcr', 'single', 'higher', 'exposure', 'auc', 'cler', 'two', 'fold', 'compared', 'studies', 'performed', 'assess', 'oharmacokinetics', 'hepatic', 'liver', 'indications', 'indicated', 'treatment', 'prevention', 'osteoporosis', 'contra', 'e', 'knownhypersensitivity', 'uncorrected', 'hypocalcemia', 'nability', 'stand', 'sit', 'upright', 'lalarninase', 'precautions', 'disturbances', 'metabolism', 'effectively', 'treated', 'starting', 'therapy', 'adequate', 'calcium', 'vitamin', 'importantin', 'osteonecrosis', 'primarily', 'jaw', 'reported', 'bisphosphonates', 'cases', 'cancer', 'undergoing', 'dental', 'procedures', 'occurred', 'diagnoses', 'risk', 'factors', 'include', 'diagnosis', 'concomitant', 'therapies', 'g', 'chemotherapy', 'radiotherapy', 'corticosteroids', 'co', 'morbid', 'disorders', 'anemia', 'coagulopathy', 'infection', 'pre', 'existing', 'disease', 'intravenously', 'orally', 'develop', 'onj', 'surgery', 'may', 'exacerbate', 'condition', 'postmarketing', 'experience', 'severe', 'occasionally', 'incapacitating', 'joint', 'muscle', 'pain', 'taking', 'approved', 'reports', 'infrequent', 'category', 'drugs', 'onset', 'symptoms', 'varied', 'day', 'several', 'months', 'relief', 'stopping', 'subset', 'recurrence', 'rechallenged', 'interfere', 'imaging', 'agents', 'specific', 'physicians', 'alert', 'signs', 'signaling', 'possible', 'esophageal', 'reaction', 'instructed', 'discontinue', 'seek', 'attention', 'irritation', 'new', 'worsening', 'dysphagia', 'swallowing', 'retrosternal', 'heartburn', 'recommended', 'pregnancy', 'lactation', 'well', 'controlled', 'pregnant', 'used', 'potential', 'benefit', 'justifies', 'mother', 'fetus', 'tis', 'whether', 'milk', 'many', 'caution', 'exercised', 'acidis', 'nursing', 'woman', 'interactions', 'pharmacokinetic', 'interaction', 'volunteers', 'demonstrated', 'ranitidine', 'injected', 'increased', 'degree', 'considered', 'clinically', 'relevant', 'absence', 'tamoxifen', 'hormone', 'replacement', 'estrogen', 'coadministered', 'melphalan', 'prednisolone', 'multiple', 'myeloma', 'products', 'multivalent', 'cations', 'aluminium', 'magnesium', 'iron', 'including', 'thandronic', 'medications', 'antacids', 'supplements', 'vitamins', 'fast', 'overnight', 'continue', 'fasting', 'aspirin', 'nsaids', 'associated', 'side', 'effects', 'commonly', 'adverse', 'extremity', 'asthenia', 'allergic', 'dyspepsia', 'diarrhea', 'tooth', 'disorder', 'vomiting', 'gastritis', 'hypercholesteralemia', 'myalgia', 'arthritis', 'headache', 'hypertension', 'dizziness', 'vertigo', 'nerve', 'root', 'lesion', 'cramp', 'respiratory', 'bronchitis', 'pneumonia', 'pharyngitis', 'urinary', 'nausea', 'constipation', 'abdominal', 'arthralgia', 'localised', 'osteoarthritis', 'influenza', 'nasopharyngitis', 'like', 'illness', 'rash', 'insomnia', 'fatigue', 'flatulence', 'gastroesophageal', 'reflux', 'musculoskeletal', 'fever', 'chills', 'loss', 'appetite', 'literature', 'indicate', 'ocular', 'inflammation', 'uveitis', 'scleritis', 'events', 'resolve', 'discontinued', 'received', 'monthly', 'experienced', 'case', 'overdosage', 'available', 'knowledge', 'class', 'compounds', 'result', 'hypophosphatemia', 'upsel', 'stomach', 'esophagitis', 'ulcer', 'given', 'bind', 'due', 'induced', 'patient', 'remain', 'fully', 'dialysis', 'would', 'beneficial', 'ldrofos', 'tablettaken', 'onthe', 'date', 'month', 'maximize', 'atleast', 'first', 'drink', 'water', 'medication', 'supplementation', 'nl', 'levtbadiann', 'ieluntan', 'rm', 'tnhlate', 'plain', 'noted', 'waters', 'therefore', 'chew', 'suck', 'oropharyngeal', 'ulceration', 'ifthe', 'missed', 'next', 'scheduled', 'days', 'away', 'take', 'morning', 'remembered', 'return', 'idrofes', 'every', 'chosen', 'according', 'original', 'schedule', 'must', 'week', 'wait', 'receive', 'supplemental', 'dietary', 'inadequate', 'elderly', 'adjustmentis', 'necessary', 'pediatric', 'safety', 'effectiveness', 'established', 'adjustments', 'adjustment', 'mild', 'moderate', 'equal', 'greater', 'incompatibilities', 'applicable', 'storage', 'handling', 'store', 'room', 'temperature', 'protected', 'light', 'moisture', 'keep', 'reach', 'children', 'expiry', 'refer', 'product', 'label', 'notuse', 'presentation', 'strips', 'instructions', 'choose', 'easy', 'remember', 'thing', 'empty', 'eat', 'anything', 'medicine', 'swallow', 'full', 'glass', 'drinks', 'sparkling', 'coffee', 'tea', 'dairy', 'juice', 'whole', 'itin', 'mouth', 'melt', 'dissolve', 'foratleast', 'tlie', 'normal', 'activities', 'read', 'newspaper', 'walk', 'pon', 'teator', 'except', 'medicines', 'ata', 'different', 'much', 'consult', 'doctor', 'right', 'make', 'vomit', 'notlie', 'long', 'tells', 'tell', 'exercise', 'help', 'forget', 'ttake', 'later', 'instead', 'follow', 'weeks', 'late', 'go', 'lf', 'never', 'trade', 'mark', 'details', 'please', 'write', 'sun', 'pharma', 'acme', 'plaza', 'andheri', 'kurla', 'road', 'oe', 'mumbai', 'india', 'ald']\n"
          ],
          "name": "stdout"
        }
      ]
    },
    {
      "cell_type": "code",
      "metadata": {
        "colab": {
          "base_uri": "https://localhost:8080/"
        },
        "id": "wOdUIHIOvU_X",
        "outputId": "a1ebed13-16b8-4293-9403-ae0328e79481"
      },
      "source": [
        "#creating a dictionary for both tags and text of the form <data>:value. Not necessary but i found it convenient\r\n",
        "\r\n",
        "text_dict = {j:i for i,j in enumerate(text)}\r\n",
        "tag_dict = {j:i for i,j in enumerate(tags)}\r\n",
        "#for i,j in enumerate(tags):\r\n",
        "#  tag_dict[j] = i\r\n",
        "#tag_dict = [OrderedDict(tags[i]:i for i in range(len(tags)))]\r\n",
        "tag_dict"
      ],
      "execution_count": 106,
      "outputs": [
        {
          "output_type": "execute_result",
          "data": {
            "text/plain": [
              "{'CC': 14,\n",
              " 'CD': 16,\n",
              " 'DT': 17,\n",
              " 'FW': 15,\n",
              " 'IN': 9,\n",
              " 'JJ': 4,\n",
              " 'JJR': 13,\n",
              " 'JJS': 12,\n",
              " 'LS': 18,\n",
              " 'NN': 0,\n",
              " 'NNP': 2,\n",
              " 'NNS': 5,\n",
              " 'RB': 10,\n",
              " 'VB': 11,\n",
              " 'VBD': 1,\n",
              " 'VBG': 3,\n",
              " 'VBN': 7,\n",
              " 'VBP': 8,\n",
              " 'VBZ': 6}"
            ]
          },
          "metadata": {
            "tags": []
          },
          "execution_count": 106
        }
      ]
    },
    {
      "cell_type": "markdown",
      "metadata": {
        "id": "ArRu8EZSs5_s"
      },
      "source": [
        "### Emission Matrix"
      ]
    },
    {
      "cell_type": "code",
      "metadata": {
        "id": "4qLwjwqTv4s2"
      },
      "source": [
        "def create_emission_matrix():\r\n",
        "  emission_matrix = np.zeros((len(text),len(tags)))\r\n",
        "  emission_matrix.fill(0)\r\n",
        "  #key_list = list(my_dict.keys())\r\n",
        "  #val_list = list(my_dict.values())\r\n",
        "\r\n",
        "  '''\r\n",
        "  basically we need to map the words to their tags.\r\n",
        "\r\n",
        "  so we don't have to include the full stops so i've kept that check.\r\n",
        "\r\n",
        "  so for each word in pos_res, we find the key it should be mapped to in the matrix and the tag that it should be mapped to\r\n",
        "  We incriment the value in that cell\r\n",
        "\r\n",
        "  same as doing text.index(i[0]) and tags.index(i[1])\r\n",
        "  '''\r\n",
        "  for i in pos_res:\r\n",
        "    if i[0] != '.':\r\n",
        "      try:\r\n",
        "        emission_matrix[text_dict[i[0]]][tag_dict[i[1]]] += 1\r\n",
        "      except:\r\n",
        "        print(\"error \",i)\r\n",
        "        break\r\n",
        "  '''\r\n",
        "  the following few lines basically deal with infinity and nan states that could occur due to division by zero\r\n",
        "  '''\r\n",
        "  with np.errstate(divide='ignore', invalid='ignore'):\r\n",
        "    '''\r\n",
        "    Now we need to average the columns to find the probability of each tag being a particular word.\r\n",
        "    The below code does that:\r\n",
        "    the code in the line below first does columnwise summation(axis=0) and averages\r\n",
        "    '''\r\n",
        "    emission_matrix =  emission_matrix/emission_matrix.sum(axis=0, keepdims=True)\r\n",
        "    emission_matrix[emission_matrix == np.inf] = 0\r\n",
        "    emission_matrix = np.nan_to_num(emission_matrix)\r\n",
        "  return emission_matrix\r\n"
      ],
      "execution_count": 107,
      "outputs": []
    },
    {
      "cell_type": "code",
      "metadata": {
        "colab": {
          "base_uri": "https://localhost:8080/"
        },
        "id": "AE9ogPbewxwT",
        "outputId": "3c0b7979-bacb-422b-fba8-cc65db602938"
      },
      "source": [
        "emission_matrix = create_emission_matrix()\r\n",
        "print(emission_matrix)\r\n",
        "print(emission_matrix.shape)"
      ],
      "execution_count": 108,
      "outputs": [
        {
          "output_type": "stream",
          "text": [
            "[[0.00625    0.         0.         ... 0.         0.         0.        ]\n",
            " [0.         0.04761905 0.         ... 0.         0.         0.        ]\n",
            " [0.         0.         0.01219512 ... 0.         0.         0.        ]\n",
            " ...\n",
            " [0.         0.04761905 0.         ... 0.         0.         0.        ]\n",
            " [0.         0.         0.         ... 0.         0.         0.        ]\n",
            " [0.00625    0.         0.         ... 0.         0.         0.        ]]\n",
            "(280, 19)\n"
          ],
          "name": "stdout"
        }
      ]
    },
    {
      "cell_type": "markdown",
      "metadata": {
        "id": "zsKws1frvA02"
      },
      "source": [
        "### Transition Matrix"
      ]
    },
    {
      "cell_type": "markdown",
      "metadata": {
        "id": "f3EczyD51BBh"
      },
      "source": [
        "pos_res format text,tag,is_start,suffix.is_punct]"
      ]
    },
    {
      "cell_type": "code",
      "metadata": {
        "id": "I1gh2s8Fw3yx"
      },
      "source": [
        "def create_transition_matrix():\r\n",
        "  #we add +1 in both rows and columns to incorporate start and end state respectively\r\n",
        "  transition_matrix = np.zeros(((len(tags)+1),(len(tags)+1)))\r\n",
        "  transition_matrix.fill(0)\r\n",
        "  #pointer points to those states\r\n",
        "  pointer = len(tags)\r\n",
        "  len_list = len(pos_res)\r\n",
        "\r\n",
        "\r\n",
        "  for i in range(len(pos_res)):\r\n",
        "    #since we cant find the i+1 of the last element, we keep this flag\r\n",
        "    if i < len_list-1:\r\n",
        "      \r\n",
        "      #if it is the start of a sentence then increment the transition start_tag -> current_tag\r\n",
        "      if pos_res[i][2] == True:\r\n",
        "        transition_matrix[pointer][tag_dict[pos_res[i][1]]] +=1\r\n",
        "\r\n",
        "      #if the next word is a '.' then that means that the current word is the end of the sentence. \r\n",
        "      #All special characters were removed during cleaning and only full stops were added while joining the sentences\r\n",
        "      #sometimes due to the joining and formatting ofthe sentences, a case may come that there are two full stops consecutively.\r\n",
        "      #to prevent that we make sure that both the current token and the next arent periods \r\n",
        "      elif pos_res[i+1][0] == '.':\r\n",
        "        if pos_res[i][0] != '.':\r\n",
        "            transition_matrix[tag_dict[pos_res[i][1]]][pointer] +=1\r\n",
        "\r\n",
        "      #increment transition current tag -> next_tag\r\n",
        "      else:\r\n",
        "        if pos_res[i][0] != '.':\r\n",
        "          transition_matrix[tag_dict[pos_res[i][1]]][tag_dict[pos_res[i+1][1]]] +=1\r\n",
        "\r\n",
        "  #same thing as in emission\r\n",
        "  with np.errstate(divide='ignore', invalid='ignore'):\r\n",
        "    \r\n",
        "    #again same concept as in what was done in emission but this time row wise (axis=1)\r\n",
        "    transition_matrix =  transition_matrix/transition_matrix.sum(axis=1, keepdims=True)\r\n",
        "    transition_matrix[transition_matrix == np.inf] = 0\r\n",
        "    transition_matrix = np.nan_to_num(transition_matrix)\r\n",
        "  return transition_matrix"
      ],
      "execution_count": 109,
      "outputs": []
    },
    {
      "cell_type": "code",
      "metadata": {
        "colab": {
          "base_uri": "https://localhost:8080/"
        },
        "id": "IWj5hLcS2sr3",
        "outputId": "65b8c733-f4c6-4e04-e15d-75c51830888a"
      },
      "source": [
        "transition_matrix = create_transition_matrix()\r\n",
        "print(transition_matrix[0])\r\n",
        "print(transition_matrix.shape)"
      ],
      "execution_count": 110,
      "outputs": [
        {
          "output_type": "stream",
          "text": [
            "[0.29605263 0.05921053 0.08552632 0.01315789 0.09868421 0.11842105\n",
            " 0.04605263 0.07894737 0.01315789 0.03289474 0.03289474 0.\n",
            " 0.00657895 0.         0.00657895 0.         0.         0.\n",
            " 0.         0.11184211]\n",
            "(20, 20)\n"
          ],
          "name": "stdout"
        }
      ]
    },
    {
      "cell_type": "code",
      "metadata": {
        "colab": {
          "base_uri": "https://localhost:8080/"
        },
        "id": "2SKWk_FX_6Jm",
        "outputId": "cf1aacbb-d10c-4a27-f497-91bf69d0a351"
      },
      "source": [
        "for i in range(transition_matrix.shape[0]):\r\n",
        "  print(transition_matrix[i])\r\n",
        "  print(\".......\")"
      ],
      "execution_count": 111,
      "outputs": [
        {
          "output_type": "stream",
          "text": [
            "[0.29605263 0.05921053 0.08552632 0.01315789 0.09868421 0.11842105\n",
            " 0.04605263 0.07894737 0.01315789 0.03289474 0.03289474 0.\n",
            " 0.00657895 0.         0.00657895 0.         0.         0.\n",
            " 0.         0.11184211]\n",
            ".......\n",
            "[0.22222222 0.         0.05555556 0.05555556 0.27777778 0.33333333\n",
            " 0.         0.05555556 0.         0.         0.         0.\n",
            " 0.         0.         0.         0.         0.         0.\n",
            " 0.         0.        ]\n",
            ".......\n",
            "[0.07246377 0.04347826 0.52173913 0.01449275 0.10144928 0.02898551\n",
            " 0.01449275 0.01449275 0.         0.02898551 0.01449275 0.\n",
            " 0.         0.01449275 0.         0.         0.01449275 0.\n",
            " 0.         0.11594203]\n",
            ".......\n",
            "[0.2 0.  0.2 0.  0.6 0.  0.  0.  0.  0.  0.  0.  0.  0.  0.  0.  0.  0.\n",
            " 0.  0. ]\n",
            ".......\n",
            "[0.62195122 0.         0.07317073 0.01219512 0.19512195 0.08536585\n",
            " 0.         0.01219512 0.         0.         0.         0.\n",
            " 0.         0.         0.         0.         0.         0.\n",
            " 0.         0.        ]\n",
            ".......\n",
            "[0.0625     0.08333333 0.14583333 0.0625     0.16666667 0.02083333\n",
            " 0.0625     0.02083333 0.0625     0.02083333 0.02083333 0.\n",
            " 0.         0.         0.         0.         0.         0.\n",
            " 0.         0.27083333]\n",
            ".......\n",
            "[0.30769231 0.         0.         0.         0.53846154 0.07692308\n",
            " 0.         0.         0.         0.         0.07692308 0.\n",
            " 0.         0.         0.         0.         0.         0.\n",
            " 0.         0.        ]\n",
            ".......\n",
            "[0.55 0.   0.   0.05 0.   0.15 0.   0.1  0.   0.   0.05 0.   0.05 0.05\n",
            " 0.   0.   0.   0.   0.   0.  ]\n",
            ".......\n",
            "[0.33333333 0.16666667 0.16666667 0.         0.         0.\n",
            " 0.         0.         0.         0.16666667 0.16666667 0.\n",
            " 0.         0.         0.         0.         0.         0.\n",
            " 0.         0.        ]\n",
            ".......\n",
            "[0.2 0.  0.2 0.  0.2 0.1 0.  0.  0.  0.1 0.  0.  0.  0.1 0.  0.  0.  0.1\n",
            " 0.  0. ]\n",
            ".......\n",
            "[0.08333333 0.08333333 0.08333333 0.         0.16666667 0.\n",
            " 0.16666667 0.16666667 0.         0.         0.         0.08333333\n",
            " 0.08333333 0.         0.         0.         0.         0.\n",
            " 0.         0.08333333]\n",
            ".......\n",
            "[0.5 0.  0.  0.  0.  0.  0.  0.  0.  0.  0.  0.  0.  0.  0.  0.  0.  0.\n",
            " 0.  0.5]\n",
            ".......\n",
            "[0.33333333 0.         0.         0.         0.         0.66666667\n",
            " 0.         0.         0.         0.         0.         0.\n",
            " 0.         0.         0.         0.         0.         0.\n",
            " 0.         0.        ]\n",
            ".......\n",
            "[0.5 0.  0.  0.  0.  0.5 0.  0.  0.  0.  0.  0.  0.  0.  0.  0.  0.  0.\n",
            " 0.  0. ]\n",
            ".......\n",
            "[0. 0. 0. 0. 0. 0. 0. 0. 0. 0. 1. 0. 0. 0. 0. 0. 0. 0. 0. 0.]\n",
            ".......\n",
            "[0. 0. 0. 0. 0. 0. 0. 0. 0. 0. 0. 0. 0. 0. 0. 0. 0. 0. 0. 0.]\n",
            ".......\n",
            "[0.5 0.  0.  0.  0.  0.  0.  0.  0.  0.  0.  0.5 0.  0.  0.  0.  0.  0.\n",
            " 0.  0. ]\n",
            ".......\n",
            "[0. 0. 0. 0. 0. 0. 0. 0. 0. 0. 0. 0. 0. 0. 0. 0. 0. 0. 0. 0.]\n",
            ".......\n",
            "[0. 0. 0. 0. 0. 0. 0. 0. 0. 0. 0. 0. 0. 0. 0. 0. 0. 0. 0. 0.]\n",
            ".......\n",
            "[0.1372549  0.05882353 0.25490196 0.05882353 0.19607843 0.11764706\n",
            " 0.         0.05882353 0.         0.01960784 0.01960784 0.01960784\n",
            " 0.         0.         0.         0.01960784 0.         0.01960784\n",
            " 0.01960784 0.        ]\n",
            ".......\n"
          ],
          "name": "stdout"
        }
      ]
    },
    {
      "cell_type": "code",
      "metadata": {
        "colab": {
          "base_uri": "https://localhost:8080/"
        },
        "id": "py-CBxYPe3NU",
        "outputId": "8c826d21-6710-4b0d-d287-cc884c2d27a7"
      },
      "source": [
        "a= np.array([[0,0,0], [0,0,0], [0,0,0]])\r\n",
        "\r\n",
        "x = np.array([1,2,3])\r\n",
        "y = np.array([2,3,4])\r\n",
        "z = np.multiply(x,y)*2\r\n",
        "z"
      ],
      "execution_count": null,
      "outputs": [
        {
          "output_type": "execute_result",
          "data": {
            "text/plain": [
              "array([ 4, 12, 24])"
            ]
          },
          "metadata": {
            "tags": []
          },
          "execution_count": 111
        }
      ]
    },
    {
      "cell_type": "code",
      "metadata": {
        "colab": {
          "base_uri": "https://localhost:8080/"
        },
        "id": "u_RXjcCZPx3c",
        "outputId": "6489c08f-fe6c-449b-db17-d63ae016a1f0"
      },
      "source": [
        "#x= np.array([[1,2,3], [4,5,6], [7,8,9], [5,3,2]])\r\n",
        "#y = x[:-1,2]\r\n",
        "x = np.array([1,2,3]).reshape((3,))\r\n",
        "print(np.argmax(x))"
      ],
      "execution_count": null,
      "outputs": [
        {
          "output_type": "stream",
          "text": [
            "2\n"
          ],
          "name": "stdout"
        }
      ]
    },
    {
      "cell_type": "code",
      "metadata": {
        "colab": {
          "base_uri": "https://localhost:8080/"
        },
        "id": "dsit3EPsf6pS",
        "outputId": "6d23a23d-b033-49c0-ed38-f809ad7ada9f"
      },
      "source": [
        "x = np.array([1,2,3])\r\n",
        "y = np.array([2,3,4])\r\n",
        "z = np.multiply(x,y)\r\n",
        "z"
      ],
      "execution_count": null,
      "outputs": [
        {
          "output_type": "execute_result",
          "data": {
            "text/plain": [
              "array([ 2,  6, 12])"
            ]
          },
          "metadata": {
            "tags": []
          },
          "execution_count": 198
        }
      ]
    },
    {
      "cell_type": "markdown",
      "metadata": {
        "id": "HcPihxPnR6J7"
      },
      "source": [
        "Reference Used (I did not have to be signed in to view these): \r\n",
        "\r\n",
        "Viterbi Algorithm: https://www.coursera.org/lecture/probabilistic-models-in-nlp/the-viterbi-algorithm-A5wSY\r\n",
        "\r\n",
        "Initialization: https://www.coursera.org/lecture/probabilistic-models-in-nlp/viterbi-initialization-Q1Wuu\r\n",
        "\r\n",
        "Forward Pass: https://www.coursera.org/lecture/probabilistic-models-in-nlp/viterbi-forward-pass-c6m8s\r\n",
        "\r\n",
        "Backward Pass: https://www.coursera.org/lecture/probabilistic-models-in-nlp/viterbi-backward-pass-YqWsL"
      ]
    },
    {
      "cell_type": "code",
      "metadata": {
        "id": "w68qithZ3eMe"
      },
      "source": [
        "def viterbi(words):\r\n",
        "  '''\r\n",
        "  states = list to hold the most probable states during backward pass\r\n",
        "  state_matrix = matrix to hold the maximum probability calculated from the previous state -> current state i.e. calculate (δ)\r\n",
        "  tag_matrix = matrix that holds the index of the previous hidden state (or tag in the previous state) state that maximizes\r\n",
        "               the probability of a word being a particular tag (or hidden state)\r\n",
        "  '''\r\n",
        "  states = []\r\n",
        "  tag_matrix = np.zeros((len(tags),len(words)))\r\n",
        "  state_matrix = np.zeros((len(tags),len(words)))\r\n",
        "\r\n",
        "\r\n",
        "  ##Wherever you see ',:-1' it is to exclude the start or end the tags as they are not needed for the hidden states of each word \r\n",
        "  for key, word in enumerate(words):\r\n",
        "\r\n",
        "    #if it is the first word i.e. start\r\n",
        "    if key == 0:\r\n",
        "\r\n",
        "      #there are no states before this we only calculate thetransition probability from start state to all the hidden states for the first word\r\n",
        "      #elementwise multiplication between the transition matrix row of the start tag(transition probability from start to all other tags) and\r\n",
        "      #the emission probability for the word wrt to all tags\r\n",
        "      calc = np.multiply(transition_matrix[len(tags),:-1],  emission_matrix[text_dict[word],:]).reshape((len(tags),1))\r\n",
        "      state_matrix[:,0] = calc.ravel()\r\n",
        "      #print(\"...................\")\r\n",
        "      #print(calc)\r\n",
        "\r\n",
        "    else:\r\n",
        "\r\n",
        "      #if its not start then we need to calculate the max probability from all possible hidden states for previous word\r\n",
        "      #with the current hidden state\r\n",
        "      for tag in tags:\r\n",
        "        tag_key = tag_dict[tag]\r\n",
        "\r\n",
        "        #basically we do elementwise multiplication\r\n",
        "        #for all hidden states of previous word we multiply\r\n",
        "        # transition probability of previous state to current, the maximum probability of the previous hidden state under consideration(δ) and\r\n",
        "        #emission probaility of a particular word from the hidden state\r\n",
        "        #refer to the forward pass video from above for the exact formula\r\n",
        "\r\n",
        "        calc = np.multiply(state_matrix[:, key-1],transition_matrix[:-1,tag_key]) * emission_matrix[text_dict[word]][tag_key]\r\n",
        "        \r\n",
        "        state_matrix[tag_key][key] = np.amax(calc)   #find the maximum probability\r\n",
        "        tag_matrix[tag_key][key] = np.argmax(calc)   #find the previous state that maximizes this one\r\n",
        "\r\n",
        "  \r\n",
        "  #finding the probability that a state would be an end state. We take the argmax for this to\r\n",
        "  #find the maximum likelihood state for the last word\r\n",
        "  max_state = np.argmax(np.multiply(transition_matrix[:-1, len(tags)], state_matrix[:,-1])) \r\n",
        "  \r\n",
        "  states.append(tags[int(max_state)])\r\n",
        "\r\n",
        "  #refer backward state video\r\n",
        "  #so now we do the backward pass where we iterate through tag_matrix backward.\r\n",
        "  #We find the max state for a particular word. That is the previous hidden state that maximizes the current.\r\n",
        "  #This way we move backward and keep storing the maximum likelihood tag in states\r\n",
        "  for i in reversed(range(1,len(words))):\r\n",
        "    max_state = int(tag_matrix[max_state][i])\r\n",
        "    states.append(tags[max_state])\r\n",
        "\r\n",
        "  #print(state_matrix)\r\n",
        "  #print(tag_matrix)\r\n",
        "  #print(states)\r\n",
        "\r\n",
        "  #reverse states because we've appended it from last to first\r\n",
        "  return states[::-1]\r\n",
        "  \r\n",
        "  \r\n"
      ],
      "execution_count": 112,
      "outputs": []
    },
    {
      "cell_type": "code",
      "metadata": {
        "colab": {
          "base_uri": "https://localhost:8080/"
        },
        "id": "pipS4LAMXGAo",
        "outputId": "d8d31cf7-4e01-4a27-bb3b-f7b27a53879c"
      },
      "source": [
        "###Choose sentence to run it on\r\n",
        "\r\n",
        "test_doc = nlp(clean_sentences[1])\r\n",
        "test_words = []\r\n",
        "test_tags = []\r\n",
        "for token in test_doc:\r\n",
        "  test_words.append(token.text)\r\n",
        "  test_tags.append(token.tag_)\r\n",
        "print(test_words)\r\n",
        "print(test_tags)\r\n",
        "ans = viterbi(test_words)\r\n",
        "print(ans)"
      ],
      "execution_count": 123,
      "outputs": [
        {
          "output_type": "stream",
          "text": [
            "['prescribing', 'information', 'inandronic', 'acid', 'tablets', 'idrofos', 'dosage', 'form', 'tablets', 'composition', 'film', 'coated', 'tablet', 'contains', 'lbandronic', 'acid', 'monosodium', 'monohydrate', 'equivalentto', 'ibandronic', 'acid', 'mg', 'excipients', 'clinical', 'pharmacology', 'lbandronic', 'acid', 'anitrogen', 'containing', 'bisphosphonate', 'inhibits', 'osteoclast', 'mediated', 'bone', 'resorption']\n",
            "['VBG', 'NN', 'JJ', 'NN', 'NNS', 'JJ', 'NN', 'NN', 'VBZ', 'NN', 'NN', 'VBD', 'NN', 'VBZ', 'JJ', 'NNP', 'NNP', 'NNP', 'NNP', 'NNP', 'NNP', 'NNP', 'VBZ', 'JJ', 'NN', 'NNP', 'NNP', 'NNP', 'VBG', 'NNP', 'NNS', 'NNP', 'VBN', 'NN', 'NN']\n",
            "['VBG', 'NN', 'JJ', 'NN', 'VBZ', 'JJ', 'NN', 'NN', 'VBZ', 'NN', 'NN', 'VBD', 'NN', 'VBZ', 'JJ', 'NN', 'NNP', 'NNP', 'NNP', 'NNP', 'NNP', 'NNP', 'VBZ', 'JJ', 'NN', 'NNP', 'NNP', 'NNP', 'VBG', 'NNP', 'NNS', 'NNP', 'VBN', 'NN', 'NN']\n"
          ],
          "name": "stdout"
        }
      ]
    },
    {
      "cell_type": "code",
      "metadata": {
        "colab": {
          "base_uri": "https://localhost:8080/"
        },
        "id": "1aAs6wKfYRmM",
        "outputId": "2f2f7dff-28ed-47eb-adbc-a0104d92da9c"
      },
      "source": [
        "#tabulating for comparison\r\n",
        "\r\n",
        "from tabulate import tabulate\r\n",
        "\r\n",
        "formatted_ans = []\r\n",
        "for i in range(len(test_words)):\r\n",
        "  formatted_ans.append([test_words[i], ans[i], test_tags[i]])\r\n",
        "\r\n",
        "print(tabulate(formatted_ans, headers= [\"Word\", \"Predicted Tag\", \"Actual Tag\"]))"
      ],
      "execution_count": 124,
      "outputs": [
        {
          "output_type": "stream",
          "text": [
            "Word            Predicted Tag    Actual Tag\n",
            "--------------  ---------------  ------------\n",
            "prescribing     VBG              VBG\n",
            "information     NN               NN\n",
            "inandronic      JJ               JJ\n",
            "acid            NN               NN\n",
            "tablets         VBZ              NNS\n",
            "idrofos         JJ               JJ\n",
            "dosage          NN               NN\n",
            "form            NN               NN\n",
            "tablets         VBZ              VBZ\n",
            "composition     NN               NN\n",
            "film            NN               NN\n",
            "coated          VBD              VBD\n",
            "tablet          NN               NN\n",
            "contains        VBZ              VBZ\n",
            "lbandronic      JJ               JJ\n",
            "acid            NN               NNP\n",
            "monosodium      NNP              NNP\n",
            "monohydrate     NNP              NNP\n",
            "equivalentto    NNP              NNP\n",
            "ibandronic      NNP              NNP\n",
            "acid            NNP              NNP\n",
            "mg              NNP              NNP\n",
            "excipients      VBZ              VBZ\n",
            "clinical        JJ               JJ\n",
            "pharmacology    NN               NN\n",
            "lbandronic      NNP              NNP\n",
            "acid            NNP              NNP\n",
            "anitrogen       NNP              NNP\n",
            "containing      VBG              VBG\n",
            "bisphosphonate  NNP              NNP\n",
            "inhibits        NNS              NNS\n",
            "osteoclast      NNP              NNP\n",
            "mediated        VBN              VBN\n",
            "bone            NN               NN\n",
            "resorption      NN               NN\n"
          ],
          "name": "stdout"
        }
      ]
    },
    {
      "cell_type": "code",
      "metadata": {
        "id": "pHRQNLUAl11P"
      },
      "source": [
        ""
      ],
      "execution_count": null,
      "outputs": []
    }
  ]
}